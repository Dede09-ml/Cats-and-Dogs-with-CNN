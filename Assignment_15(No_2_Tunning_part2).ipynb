{
  "nbformat": 4,
  "nbformat_minor": 0,
  "metadata": {
    "colab": {
      "name": "Assignment 15(No.2 Tunning_part2).ipynb",
      "provenance": [],
      "collapsed_sections": []
    },
    "kernelspec": {
      "name": "python3",
      "display_name": "Python 3"
    },
    "accelerator": "GPU"
  },
  "cells": [
    {
      "cell_type": "code",
      "metadata": {
        "id": "uDSg5OBVfWQP"
      },
      "source": [
        "zip_path = '/content/drive/My\\ Drive/Dataset/Neural\\ Data/cats-dogs.zip'\n",
        "\n",
        "!cp {zip_path} /content/\n",
        "\n",
        "!cd /content/\n",
        "\n",
        "!unzip -q /content/cats-dogs.zip -d /content\n",
        "\n",
        "!rm /content/cats-dogs.zip"
      ],
      "execution_count": null,
      "outputs": []
    },
    {
      "cell_type": "code",
      "metadata": {
        "id": "bMDnKvGwgP7-"
      },
      "source": [
        "import numpy as np\n",
        "import os\n",
        "import matplotlib.pyplot as plt"
      ],
      "execution_count": null,
      "outputs": []
    },
    {
      "cell_type": "code",
      "metadata": {
        "id": "ivOWq58QgQZO"
      },
      "source": [
        "def plot_loss(history):\n",
        "  plt.plot(history.history['loss'], label='loss')\n",
        "  plt.plot(history.history['val_loss'], label='val_loss')\n",
        "  plt.xlabel('Epoch')\n",
        "  plt.ylabel('Loss')\n",
        "  plt.legend()\n",
        "  plt.grid(True)"
      ],
      "execution_count": null,
      "outputs": []
    },
    {
      "cell_type": "markdown",
      "metadata": {
        "id": "2SBnKRg_nJij"
      },
      "source": [
        "Conv2D filter 32, kernel 5x5, initializer = glorot uniform, learning rate = 0.01, optimizer = Adadelta"
      ]
    },
    {
      "cell_type": "code",
      "metadata": {
        "id": "3wc98lO9gTM-",
        "outputId": "59b92eb3-f3d5-452d-a256-56f9d9232af6",
        "colab": {
          "base_uri": "https://localhost:8080/",
          "height": 310
        }
      },
      "source": [
        "from tensorflow.keras.models import Sequential\n",
        "from tensorflow.keras.layers import Conv2D, MaxPooling2D, AveragePooling2D, Dense, Flatten\n",
        "from tensorflow.keras.optimizers import SGD, Adadelta\n",
        "# https://www.pyimagesearch.com/2018/12/31/keras-conv2d-and-convolutional-layers/\n",
        "\n",
        "model = Sequential()\n",
        "model.add(Conv2D(32, (5, 5), activation='relu', kernel_initializer='glorot_uniform', padding='same', input_shape=(200, 200, 3)))\n",
        "model.add(MaxPooling2D((2, 2)))\n",
        "\n",
        "# model.add(Conv2D(64, (3, 3), activation='relu', kernel_initializer='he_uniform', padding='same', input_shape=(200, 200, 3)))\n",
        "# model.add(MaxPooling2D((2, 2)))\n",
        "\n",
        "# model.add(Conv2D(128, (3, 3), activation='relu', kernel_initializer='he_uniform', padding='same', input_shape=(200, 200, 3)))\n",
        "# model.add(MaxPooling2D((2, 2)))\n",
        "\n",
        "model.add(Flatten())\n",
        "\n",
        "model.add(Dense(128, activation='relu', kernel_initializer='he_uniform'))\n",
        "model.add(Dense(1, activation='sigmoid'))\n",
        "\n",
        "opt = Adadelta(lr=0.01, rho=0.95, epsilon=1e-07)\n",
        "\n",
        "model.compile(optimizer=opt, loss='binary_crossentropy', metrics=['accuracy'])\n",
        "\n",
        "model.summary()"
      ],
      "execution_count": null,
      "outputs": [
        {
          "output_type": "stream",
          "text": [
            "Model: \"sequential\"\n",
            "_________________________________________________________________\n",
            "Layer (type)                 Output Shape              Param #   \n",
            "=================================================================\n",
            "conv2d (Conv2D)              (None, 200, 200, 32)      2432      \n",
            "_________________________________________________________________\n",
            "max_pooling2d (MaxPooling2D) (None, 100, 100, 32)      0         \n",
            "_________________________________________________________________\n",
            "flatten (Flatten)            (None, 320000)            0         \n",
            "_________________________________________________________________\n",
            "dense (Dense)                (None, 128)               40960128  \n",
            "_________________________________________________________________\n",
            "dense_1 (Dense)              (None, 1)                 129       \n",
            "=================================================================\n",
            "Total params: 40,962,689\n",
            "Trainable params: 40,962,689\n",
            "Non-trainable params: 0\n",
            "_________________________________________________________________\n"
          ],
          "name": "stdout"
        }
      ]
    },
    {
      "cell_type": "code",
      "metadata": {
        "id": "awUTDdsxgYY-",
        "outputId": "c3b7f1c3-36a4-4336-f3f4-8fda5d8c9c90",
        "colab": {
          "base_uri": "https://localhost:8080/",
          "height": 50
        }
      },
      "source": [
        "dataset_dir = '/content/'\n",
        "\n",
        "from tensorflow.keras.preprocessing.image import ImageDataGenerator\n",
        "\n",
        "# datagen = ImageDataGenerator(rescale=1.0/255.0)\n",
        "train_datagen = ImageDataGenerator(rescale=1.0/255.0, width_shift_range=0.1, height_shift_range=0.1, horizontal_flip=True)\n",
        "test_datagen = ImageDataGenerator(rescale=1.0/255.0)\n",
        "\n",
        "train_iterator = train_datagen.flow_from_directory(os.path.join(dataset_dir, 'train'), class_mode='binary', batch_size=128, target_size=(200, 200))\n",
        "test_iterator = test_datagen.flow_from_directory(os.path.join(dataset_dir, 'test'), class_mode='binary', batch_size=128, target_size=(200, 200))"
      ],
      "execution_count": null,
      "outputs": [
        {
          "output_type": "stream",
          "text": [
            "Found 12749 images belonging to 2 classes.\n",
            "Found 2252 images belonging to 2 classes.\n"
          ],
          "name": "stdout"
        }
      ]
    },
    {
      "cell_type": "code",
      "metadata": {
        "id": "EUAKI8MbgawF",
        "outputId": "49b75f4d-2f05-426a-e96d-838bd444d577",
        "colab": {
          "base_uri": "https://localhost:8080/",
          "height": 1000
        }
      },
      "source": [
        "history_model_tunning2 = model.fit_generator(train_iterator, steps_per_epoch=len(train_iterator), validation_data=test_iterator, validation_steps=len(test_iterator), epochs=50)"
      ],
      "execution_count": null,
      "outputs": [
        {
          "output_type": "stream",
          "text": [
            "WARNING:tensorflow:From <ipython-input-6-870d0623b3d3>:1: Model.fit_generator (from tensorflow.python.keras.engine.training) is deprecated and will be removed in a future version.\n",
            "Instructions for updating:\n",
            "Please use Model.fit, which supports generators.\n",
            "Epoch 1/50\n",
            "100/100 [==============================] - 155s 2s/step - loss: 0.6887 - accuracy: 0.5444 - val_loss: 0.6628 - val_accuracy: 0.6257\n",
            "Epoch 2/50\n",
            "100/100 [==============================] - 155s 2s/step - loss: 0.6722 - accuracy: 0.5783 - val_loss: 0.6534 - val_accuracy: 0.6097\n",
            "Epoch 3/50\n",
            "100/100 [==============================] - 153s 2s/step - loss: 0.6608 - accuracy: 0.5947 - val_loss: 0.6412 - val_accuracy: 0.6208\n",
            "Epoch 4/50\n",
            "100/100 [==============================] - 153s 2s/step - loss: 0.6549 - accuracy: 0.6127 - val_loss: 0.6384 - val_accuracy: 0.6399\n",
            "Epoch 5/50\n",
            "100/100 [==============================] - 155s 2s/step - loss: 0.6477 - accuracy: 0.6200 - val_loss: 0.6299 - val_accuracy: 0.6328\n",
            "Epoch 6/50\n",
            "100/100 [==============================] - 154s 2s/step - loss: 0.6419 - accuracy: 0.6247 - val_loss: 0.6173 - val_accuracy: 0.6572\n",
            "Epoch 7/50\n",
            "100/100 [==============================] - 154s 2s/step - loss: 0.6407 - accuracy: 0.6289 - val_loss: 0.6138 - val_accuracy: 0.6639\n",
            "Epoch 8/50\n",
            "100/100 [==============================] - 154s 2s/step - loss: 0.6348 - accuracy: 0.6338 - val_loss: 0.6151 - val_accuracy: 0.6519\n",
            "Epoch 9/50\n",
            "100/100 [==============================] - 154s 2s/step - loss: 0.6338 - accuracy: 0.6342 - val_loss: 0.6187 - val_accuracy: 0.6421\n",
            "Epoch 10/50\n",
            "100/100 [==============================] - 154s 2s/step - loss: 0.6291 - accuracy: 0.6364 - val_loss: 0.6032 - val_accuracy: 0.6701\n",
            "Epoch 11/50\n",
            "100/100 [==============================] - 155s 2s/step - loss: 0.6286 - accuracy: 0.6412 - val_loss: 0.6457 - val_accuracy: 0.5986\n",
            "Epoch 12/50\n",
            "100/100 [==============================] - 154s 2s/step - loss: 0.6242 - accuracy: 0.6456 - val_loss: 0.6010 - val_accuracy: 0.6732\n",
            "Epoch 13/50\n",
            "100/100 [==============================] - 155s 2s/step - loss: 0.6220 - accuracy: 0.6438 - val_loss: 0.6028 - val_accuracy: 0.6607\n",
            "Epoch 14/50\n",
            "100/100 [==============================] - 154s 2s/step - loss: 0.6163 - accuracy: 0.6532 - val_loss: 0.6014 - val_accuracy: 0.6661\n",
            "Epoch 15/50\n",
            "100/100 [==============================] - 155s 2s/step - loss: 0.6197 - accuracy: 0.6504 - val_loss: 0.6137 - val_accuracy: 0.6456\n",
            "Epoch 16/50\n",
            "100/100 [==============================] - 156s 2s/step - loss: 0.6160 - accuracy: 0.6584 - val_loss: 0.6259 - val_accuracy: 0.6345\n",
            "Epoch 17/50\n",
            "100/100 [==============================] - 157s 2s/step - loss: 0.6151 - accuracy: 0.6531 - val_loss: 0.6114 - val_accuracy: 0.6434\n",
            "Epoch 18/50\n",
            "100/100 [==============================] - 156s 2s/step - loss: 0.6159 - accuracy: 0.6568 - val_loss: 0.6725 - val_accuracy: 0.5773\n",
            "Epoch 19/50\n",
            "100/100 [==============================] - 156s 2s/step - loss: 0.6126 - accuracy: 0.6585 - val_loss: 0.5997 - val_accuracy: 0.6630\n",
            "Epoch 20/50\n",
            "100/100 [==============================] - 157s 2s/step - loss: 0.6092 - accuracy: 0.6635 - val_loss: 0.6370 - val_accuracy: 0.6119\n",
            "Epoch 21/50\n",
            "100/100 [==============================] - 154s 2s/step - loss: 0.6034 - accuracy: 0.6717 - val_loss: 0.5959 - val_accuracy: 0.6674\n",
            "Epoch 22/50\n",
            "100/100 [==============================] - 154s 2s/step - loss: 0.6048 - accuracy: 0.6644 - val_loss: 0.6063 - val_accuracy: 0.6599\n",
            "Epoch 23/50\n",
            "100/100 [==============================] - 153s 2s/step - loss: 0.6038 - accuracy: 0.6687 - val_loss: 0.6226 - val_accuracy: 0.6319\n",
            "Epoch 24/50\n",
            "100/100 [==============================] - 156s 2s/step - loss: 0.6022 - accuracy: 0.6718 - val_loss: 0.6108 - val_accuracy: 0.6470\n",
            "Epoch 25/50\n",
            "100/100 [==============================] - 156s 2s/step - loss: 0.6031 - accuracy: 0.6684 - val_loss: 0.5894 - val_accuracy: 0.6687\n",
            "Epoch 26/50\n",
            "100/100 [==============================] - 156s 2s/step - loss: 0.5994 - accuracy: 0.6707 - val_loss: 0.5843 - val_accuracy: 0.6727\n",
            "Epoch 27/50\n",
            "100/100 [==============================] - 155s 2s/step - loss: 0.6002 - accuracy: 0.6724 - val_loss: 0.5826 - val_accuracy: 0.6816\n",
            "Epoch 28/50\n",
            "100/100 [==============================] - 156s 2s/step - loss: 0.5945 - accuracy: 0.6792 - val_loss: 0.5833 - val_accuracy: 0.6736\n",
            "Epoch 29/50\n",
            "100/100 [==============================] - 155s 2s/step - loss: 0.5934 - accuracy: 0.6792 - val_loss: 0.5851 - val_accuracy: 0.6834\n",
            "Epoch 30/50\n",
            "100/100 [==============================] - 155s 2s/step - loss: 0.5945 - accuracy: 0.6826 - val_loss: 0.5924 - val_accuracy: 0.6656\n",
            "Epoch 31/50\n",
            "100/100 [==============================] - 155s 2s/step - loss: 0.5957 - accuracy: 0.6746 - val_loss: 0.5772 - val_accuracy: 0.6758\n",
            "Epoch 32/50\n",
            "100/100 [==============================] - 155s 2s/step - loss: 0.5943 - accuracy: 0.6834 - val_loss: 0.5795 - val_accuracy: 0.6750\n",
            "Epoch 33/50\n",
            "100/100 [==============================] - 156s 2s/step - loss: 0.5935 - accuracy: 0.6751 - val_loss: 0.6160 - val_accuracy: 0.6425\n",
            "Epoch 34/50\n",
            "100/100 [==============================] - 156s 2s/step - loss: 0.5896 - accuracy: 0.6910 - val_loss: 0.5767 - val_accuracy: 0.6834\n",
            "Epoch 35/50\n",
            "100/100 [==============================] - 156s 2s/step - loss: 0.5875 - accuracy: 0.6859 - val_loss: 0.5946 - val_accuracy: 0.6621\n",
            "Epoch 36/50\n",
            "100/100 [==============================] - 156s 2s/step - loss: 0.5881 - accuracy: 0.6849 - val_loss: 0.6387 - val_accuracy: 0.6132\n",
            "Epoch 37/50\n",
            "100/100 [==============================] - 156s 2s/step - loss: 0.5892 - accuracy: 0.6866 - val_loss: 0.6039 - val_accuracy: 0.6536\n",
            "Epoch 38/50\n",
            "100/100 [==============================] - 156s 2s/step - loss: 0.5869 - accuracy: 0.6841 - val_loss: 0.5832 - val_accuracy: 0.6798\n",
            "Epoch 39/50\n",
            "100/100 [==============================] - 156s 2s/step - loss: 0.5862 - accuracy: 0.6885 - val_loss: 0.5721 - val_accuracy: 0.6843\n",
            "Epoch 40/50\n",
            "100/100 [==============================] - 156s 2s/step - loss: 0.5828 - accuracy: 0.6906 - val_loss: 0.5785 - val_accuracy: 0.6821\n",
            "Epoch 41/50\n",
            "100/100 [==============================] - 156s 2s/step - loss: 0.5819 - accuracy: 0.6914 - val_loss: 0.5673 - val_accuracy: 0.6847\n",
            "Epoch 42/50\n",
            "100/100 [==============================] - 156s 2s/step - loss: 0.5844 - accuracy: 0.6853 - val_loss: 0.5820 - val_accuracy: 0.6758\n",
            "Epoch 43/50\n",
            "100/100 [==============================] - 156s 2s/step - loss: 0.5829 - accuracy: 0.6921 - val_loss: 0.5960 - val_accuracy: 0.6643\n",
            "Epoch 44/50\n",
            "100/100 [==============================] - 156s 2s/step - loss: 0.5804 - accuracy: 0.6926 - val_loss: 0.5797 - val_accuracy: 0.6776\n",
            "Epoch 45/50\n",
            "100/100 [==============================] - 155s 2s/step - loss: 0.5789 - accuracy: 0.6895 - val_loss: 0.5654 - val_accuracy: 0.6865\n",
            "Epoch 46/50\n",
            "100/100 [==============================] - 155s 2s/step - loss: 0.5787 - accuracy: 0.6958 - val_loss: 0.5664 - val_accuracy: 0.6861\n",
            "Epoch 47/50\n",
            "100/100 [==============================] - 154s 2s/step - loss: 0.5746 - accuracy: 0.6995 - val_loss: 0.5774 - val_accuracy: 0.6812\n",
            "Epoch 48/50\n",
            "100/100 [==============================] - 156s 2s/step - loss: 0.5735 - accuracy: 0.6991 - val_loss: 0.5634 - val_accuracy: 0.6901\n",
            "Epoch 49/50\n",
            "100/100 [==============================] - 157s 2s/step - loss: 0.5766 - accuracy: 0.6980 - val_loss: 0.5668 - val_accuracy: 0.6856\n",
            "Epoch 50/50\n",
            "100/100 [==============================] - 154s 2s/step - loss: 0.5766 - accuracy: 0.6976 - val_loss: 0.5777 - val_accuracy: 0.6763\n"
          ],
          "name": "stdout"
        }
      ]
    },
    {
      "cell_type": "code",
      "metadata": {
        "id": "4SQVLoxqgk6P",
        "outputId": "5b0a32df-0983-4f5b-fa2b-a5b57f2068ef",
        "colab": {
          "base_uri": "https://localhost:8080/",
          "height": 278
        }
      },
      "source": [
        "plot_loss(history_model_tunning2)"
      ],
      "execution_count": null,
      "outputs": [
        {
          "output_type": "display_data",
          "data": {
            "image/png": "[encoded data removed]",
            "text/plain": [
              "<Figure size 432x288 with 1 Axes>"
            ]
          },
          "metadata": {
            "tags": [],
            "needs_background": "light"
          }
        }
      ]
    },
    {
      "cell_type": "markdown",
      "metadata": {
        "id": "yuL7QAFrApZM"
      },
      "source": [
        "Ini adalah tunning dengan akurasi rendah yang saya dapatkan yaitu sekitar 68%. saya menggunakan baseline dengan optimizer Adadelta dengan ukuran layer 5x5."
      ]
    }
  ]
}