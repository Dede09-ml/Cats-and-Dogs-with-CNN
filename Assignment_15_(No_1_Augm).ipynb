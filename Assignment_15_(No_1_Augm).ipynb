{
  "nbformat": 4,
  "nbformat_minor": 0,
  "metadata": {
    "colab": {
      "name": "Assignment 15 (No.1 Augm).ipynb",
      "provenance": [],
      "collapsed_sections": []
    },
    "kernelspec": {
      "name": "python3",
      "display_name": "Python 3"
    },
    "accelerator": "GPU"
  },
  "cells": [
    {
      "cell_type": "code",
      "metadata": {
        "id": "XROxS77vDapu"
      },
      "source": [
        "zip_path = '/content/drive/My\\ Drive/Dataset/Neural\\ Data/cats-dogs.zip'\n",
        "\n",
        "!cp {zip_path} /content/\n",
        "\n",
        "!cd /content/\n",
        "\n",
        "!unzip -q /content/cats-dogs.zip -d /content\n",
        "\n",
        "!rm /content/cats-dogs.zip"
      ],
      "execution_count": null,
      "outputs": []
    },
    {
      "cell_type": "code",
      "metadata": {
        "id": "198kg2p0D-5u"
      },
      "source": [
        "import numpy as np\n",
        "import os\n",
        "import matplotlib.pyplot as plt"
      ],
      "execution_count": null,
      "outputs": []
    },
    {
      "cell_type": "code",
      "metadata": {
        "id": "9kNxwS8tEtTS"
      },
      "source": [
        "def plot_loss(history):\n",
        "  plt.plot(history.history['loss'], label='loss')\n",
        "  plt.plot(history.history['val_loss'], label='val_loss')\n",
        "  plt.xlabel('Epoch')\n",
        "  plt.ylabel('Loss')\n",
        "  plt.legend()\n",
        "  plt.grid(True)"
      ],
      "execution_count": null,
      "outputs": []
    },
    {
      "cell_type": "code",
      "metadata": {
        "id": "-yXI2RBjEvsT",
        "outputId": "c8bf6d0b-f592-4a7c-f129-20eb5a818bf7",
        "colab": {
          "base_uri": "https://localhost:8080/",
          "height": 440
        }
      },
      "source": [
        "from tensorflow.keras.models import Sequential\n",
        "from tensorflow.keras.layers import Conv2D, MaxPooling2D, Dense, Flatten\n",
        "from tensorflow.keras.optimizers import SGD\n",
        "\n",
        "model = Sequential()\n",
        "model.add(Conv2D(32, (3, 3), activation='relu', kernel_initializer='he_uniform', padding='same', input_shape=(200, 200, 3)))\n",
        "model.add(MaxPooling2D((2, 2)))\n",
        "\n",
        "model.add(Conv2D(64, (3, 3), activation='relu', kernel_initializer='he_uniform', padding='same', input_shape=(200, 200, 3)))\n",
        "model.add(MaxPooling2D((2, 2)))\n",
        "\n",
        "model.add(Conv2D(128, (3, 3), activation='relu', kernel_initializer='he_uniform', padding='same', input_shape=(200, 200, 3)))\n",
        "model.add(MaxPooling2D((2, 2)))\n",
        "\n",
        "model.add(Flatten())\n",
        "\n",
        "model.add(Dense(128, activation='relu', kernel_initializer='he_uniform'))\n",
        "model.add(Dense(1, activation='sigmoid'))\n",
        "\n",
        "opt = SGD(lr=0.001, momentum=0.9)\n",
        "\n",
        "model.compile(optimizer=opt, loss='binary_crossentropy', metrics=['accuracy'])\n",
        "\n",
        "model.summary()"
      ],
      "execution_count": null,
      "outputs": [
        {
          "output_type": "stream",
          "text": [
            "Model: \"sequential\"\n",
            "_________________________________________________________________\n",
            "Layer (type)                 Output Shape              Param #   \n",
            "=================================================================\n",
            "conv2d (Conv2D)              (None, 200, 200, 32)      896       \n",
            "_________________________________________________________________\n",
            "max_pooling2d (MaxPooling2D) (None, 100, 100, 32)      0         \n",
            "_________________________________________________________________\n",
            "conv2d_1 (Conv2D)            (None, 100, 100, 64)      18496     \n",
            "_________________________________________________________________\n",
            "max_pooling2d_1 (MaxPooling2 (None, 50, 50, 64)        0         \n",
            "_________________________________________________________________\n",
            "conv2d_2 (Conv2D)            (None, 50, 50, 128)       73856     \n",
            "_________________________________________________________________\n",
            "max_pooling2d_2 (MaxPooling2 (None, 25, 25, 128)       0         \n",
            "_________________________________________________________________\n",
            "flatten (Flatten)            (None, 80000)             0         \n",
            "_________________________________________________________________\n",
            "dense (Dense)                (None, 128)               10240128  \n",
            "_________________________________________________________________\n",
            "dense_1 (Dense)              (None, 1)                 129       \n",
            "=================================================================\n",
            "Total params: 10,333,505\n",
            "Trainable params: 10,333,505\n",
            "Non-trainable params: 0\n",
            "_________________________________________________________________\n"
          ],
          "name": "stdout"
        }
      ]
    },
    {
      "cell_type": "code",
      "metadata": {
        "id": "u6b_u1qxE-Uy",
        "outputId": "6dd576a5-b562-4636-b23b-346d4a041f02",
        "colab": {
          "base_uri": "https://localhost:8080/",
          "height": 50
        }
      },
      "source": [
        "dataset_dir = '/content/'\n",
        "\n",
        "from tensorflow.keras.preprocessing.image import ImageDataGenerator\n",
        "\n",
        "# datagen = ImageDataGenerator(rescale=1.0/255.0)\n",
        "train_datagen = ImageDataGenerator(rescale=1.0/255.0, width_shift_range=0.1, height_shift_range=0.1, horizontal_flip=True)\n",
        "test_datagen = ImageDataGenerator(rescale=1.0/255.0)\n",
        "\n",
        "train_iterator = train_datagen.flow_from_directory(os.path.join(dataset_dir, 'train'), class_mode='binary', batch_size=128, target_size=(200, 200))\n",
        "test_iterator = test_datagen.flow_from_directory(os.path.join(dataset_dir, 'test'), class_mode='binary', batch_size=128, target_size=(200, 200))"
      ],
      "execution_count": null,
      "outputs": [
        {
          "output_type": "stream",
          "text": [
            "Found 12749 images belonging to 2 classes.\n",
            "Found 2252 images belonging to 2 classes.\n"
          ],
          "name": "stdout"
        }
      ]
    },
    {
      "cell_type": "code",
      "metadata": {
        "id": "LqtrWw5QFD_r",
        "outputId": "f04bbe29-9f0d-4c32-ee24-940e03785e03",
        "colab": {
          "base_uri": "https://localhost:8080/",
          "height": 1000
        }
      },
      "source": [
        "history_base_model = model.fit_generator(train_iterator, steps_per_epoch=len(train_iterator), validation_data=test_iterator, validation_steps=len(test_iterator), epochs=100)"
      ],
      "execution_count": null,
      "outputs": [
        {
          "output_type": "stream",
          "text": [
            "WARNING:tensorflow:From <ipython-input-7-744888ce7acc>:1: Model.fit_generator (from tensorflow.python.keras.engine.training) is deprecated and will be removed in a future version.\n",
            "Instructions for updating:\n",
            "Please use Model.fit, which supports generators.\n",
            "Epoch 1/100\n",
            "100/100 [==============================] - 125s 1s/step - loss: 0.7219 - accuracy: 0.5259 - val_loss: 0.6799 - val_accuracy: 0.5426\n",
            "Epoch 2/100\n",
            "100/100 [==============================] - 125s 1s/step - loss: 0.6795 - accuracy: 0.5608 - val_loss: 0.6661 - val_accuracy: 0.5675\n",
            "Epoch 3/100\n",
            "100/100 [==============================] - 125s 1s/step - loss: 0.6632 - accuracy: 0.5989 - val_loss: 0.6403 - val_accuracy: 0.6252\n",
            "Epoch 4/100\n",
            "100/100 [==============================] - 125s 1s/step - loss: 0.6476 - accuracy: 0.6221 - val_loss: 0.6262 - val_accuracy: 0.6408\n",
            "Epoch 5/100\n",
            "100/100 [==============================] - 125s 1s/step - loss: 0.6362 - accuracy: 0.6301 - val_loss: 0.6488 - val_accuracy: 0.5990\n",
            "Epoch 6/100\n",
            "100/100 [==============================] - 125s 1s/step - loss: 0.6302 - accuracy: 0.6433 - val_loss: 0.6032 - val_accuracy: 0.6852\n",
            "Epoch 7/100\n",
            "100/100 [==============================] - 125s 1s/step - loss: 0.6212 - accuracy: 0.6531 - val_loss: 0.5950 - val_accuracy: 0.6963\n",
            "Epoch 8/100\n",
            "100/100 [==============================] - 125s 1s/step - loss: 0.6027 - accuracy: 0.6771 - val_loss: 0.5768 - val_accuracy: 0.6998\n",
            "Epoch 9/100\n",
            "100/100 [==============================] - 125s 1s/step - loss: 0.5926 - accuracy: 0.6842 - val_loss: 0.5632 - val_accuracy: 0.7158\n",
            "Epoch 10/100\n",
            "100/100 [==============================] - 125s 1s/step - loss: 0.5871 - accuracy: 0.6860 - val_loss: 0.5538 - val_accuracy: 0.7163\n",
            "Epoch 11/100\n",
            "100/100 [==============================] - 125s 1s/step - loss: 0.5815 - accuracy: 0.6950 - val_loss: 0.6012 - val_accuracy: 0.6514\n",
            "Epoch 12/100\n",
            "100/100 [==============================] - 125s 1s/step - loss: 0.5750 - accuracy: 0.6999 - val_loss: 0.5488 - val_accuracy: 0.7140\n",
            "Epoch 13/100\n",
            "100/100 [==============================] - 125s 1s/step - loss: 0.5628 - accuracy: 0.7084 - val_loss: 0.5421 - val_accuracy: 0.7229\n",
            "Epoch 14/100\n",
            "100/100 [==============================] - 125s 1s/step - loss: 0.5606 - accuracy: 0.7167 - val_loss: 0.5287 - val_accuracy: 0.7340\n",
            "Epoch 15/100\n",
            "100/100 [==============================] - 125s 1s/step - loss: 0.5502 - accuracy: 0.7218 - val_loss: 0.5271 - val_accuracy: 0.7380\n",
            "Epoch 16/100\n",
            "100/100 [==============================] - 124s 1s/step - loss: 0.5427 - accuracy: 0.7264 - val_loss: 0.5085 - val_accuracy: 0.7513\n",
            "Epoch 17/100\n",
            "100/100 [==============================] - 124s 1s/step - loss: 0.5395 - accuracy: 0.7306 - val_loss: 0.5095 - val_accuracy: 0.7451\n",
            "Epoch 18/100\n",
            "100/100 [==============================] - 124s 1s/step - loss: 0.5316 - accuracy: 0.7356 - val_loss: 0.5118 - val_accuracy: 0.7425\n",
            "Epoch 19/100\n",
            "100/100 [==============================] - 124s 1s/step - loss: 0.5263 - accuracy: 0.7373 - val_loss: 0.4938 - val_accuracy: 0.7589\n",
            "Epoch 20/100\n",
            "100/100 [==============================] - 125s 1s/step - loss: 0.5165 - accuracy: 0.7478 - val_loss: 0.4948 - val_accuracy: 0.7500\n",
            "Epoch 21/100\n",
            "100/100 [==============================] - 125s 1s/step - loss: 0.5078 - accuracy: 0.7543 - val_loss: 0.4798 - val_accuracy: 0.7633\n",
            "Epoch 22/100\n",
            "100/100 [==============================] - 125s 1s/step - loss: 0.5100 - accuracy: 0.7510 - val_loss: 0.5002 - val_accuracy: 0.7531\n",
            "Epoch 23/100\n",
            "100/100 [==============================] - 125s 1s/step - loss: 0.5091 - accuracy: 0.7507 - val_loss: 0.4741 - val_accuracy: 0.7700\n",
            "Epoch 24/100\n",
            "100/100 [==============================] - 124s 1s/step - loss: 0.4951 - accuracy: 0.7619 - val_loss: 0.4719 - val_accuracy: 0.7695\n",
            "Epoch 25/100\n",
            "100/100 [==============================] - 125s 1s/step - loss: 0.4959 - accuracy: 0.7597 - val_loss: 0.4833 - val_accuracy: 0.7558\n",
            "Epoch 26/100\n",
            "100/100 [==============================] - 125s 1s/step - loss: 0.4865 - accuracy: 0.7696 - val_loss: 0.4808 - val_accuracy: 0.7575\n",
            "Epoch 27/100\n",
            "100/100 [==============================] - 125s 1s/step - loss: 0.4852 - accuracy: 0.7681 - val_loss: 0.4558 - val_accuracy: 0.7775\n",
            "Epoch 28/100\n",
            "100/100 [==============================] - 125s 1s/step - loss: 0.4764 - accuracy: 0.7736 - val_loss: 0.4621 - val_accuracy: 0.7753\n",
            "Epoch 29/100\n",
            "100/100 [==============================] - 125s 1s/step - loss: 0.4736 - accuracy: 0.7765 - val_loss: 0.4626 - val_accuracy: 0.7815\n",
            "Epoch 30/100\n",
            "100/100 [==============================] - 125s 1s/step - loss: 0.4738 - accuracy: 0.7755 - val_loss: 0.4523 - val_accuracy: 0.7784\n",
            "Epoch 31/100\n",
            "100/100 [==============================] - 125s 1s/step - loss: 0.4687 - accuracy: 0.7815 - val_loss: 0.4460 - val_accuracy: 0.7820\n",
            "Epoch 32/100\n",
            "100/100 [==============================] - 125s 1s/step - loss: 0.4612 - accuracy: 0.7829 - val_loss: 0.4569 - val_accuracy: 0.7842\n",
            "Epoch 33/100\n",
            "100/100 [==============================] - 126s 1s/step - loss: 0.4595 - accuracy: 0.7835 - val_loss: 0.4488 - val_accuracy: 0.7775\n",
            "Epoch 34/100\n",
            "100/100 [==============================] - 125s 1s/step - loss: 0.4529 - accuracy: 0.7888 - val_loss: 0.4398 - val_accuracy: 0.7877\n",
            "Epoch 35/100\n",
            "100/100 [==============================] - 128s 1s/step - loss: 0.4492 - accuracy: 0.7915 - val_loss: 0.4799 - val_accuracy: 0.7687\n",
            "Epoch 36/100\n",
            "100/100 [==============================] - 126s 1s/step - loss: 0.4481 - accuracy: 0.7938 - val_loss: 0.4404 - val_accuracy: 0.7891\n",
            "Epoch 37/100\n",
            "100/100 [==============================] - 126s 1s/step - loss: 0.4512 - accuracy: 0.7902 - val_loss: 0.4286 - val_accuracy: 0.7922\n",
            "Epoch 38/100\n",
            "100/100 [==============================] - 127s 1s/step - loss: 0.4454 - accuracy: 0.7898 - val_loss: 0.4209 - val_accuracy: 0.7975\n",
            "Epoch 39/100\n",
            "100/100 [==============================] - 126s 1s/step - loss: 0.4359 - accuracy: 0.7985 - val_loss: 0.4291 - val_accuracy: 0.7913\n",
            "Epoch 40/100\n",
            "100/100 [==============================] - 126s 1s/step - loss: 0.4334 - accuracy: 0.7989 - val_loss: 0.4220 - val_accuracy: 0.7993\n",
            "Epoch 41/100\n",
            "100/100 [==============================] - 126s 1s/step - loss: 0.4268 - accuracy: 0.8028 - val_loss: 0.4127 - val_accuracy: 0.8086\n",
            "Epoch 42/100\n",
            "100/100 [==============================] - 126s 1s/step - loss: 0.4299 - accuracy: 0.8012 - val_loss: 0.4251 - val_accuracy: 0.8037\n",
            "Epoch 43/100\n",
            "100/100 [==============================] - 126s 1s/step - loss: 0.4216 - accuracy: 0.8091 - val_loss: 0.4247 - val_accuracy: 0.7984\n",
            "Epoch 44/100\n",
            "100/100 [==============================] - 126s 1s/step - loss: 0.4175 - accuracy: 0.8105 - val_loss: 0.4120 - val_accuracy: 0.8131\n",
            "Epoch 45/100\n",
            "100/100 [==============================] - 126s 1s/step - loss: 0.4186 - accuracy: 0.8088 - val_loss: 0.4171 - val_accuracy: 0.8020\n",
            "Epoch 46/100\n",
            "100/100 [==============================] - 125s 1s/step - loss: 0.4223 - accuracy: 0.8023 - val_loss: 0.4125 - val_accuracy: 0.8108\n",
            "Epoch 47/100\n",
            "100/100 [==============================] - 125s 1s/step - loss: 0.4144 - accuracy: 0.8122 - val_loss: 0.4216 - val_accuracy: 0.8037\n",
            "Epoch 48/100\n",
            "100/100 [==============================] - 125s 1s/step - loss: 0.4138 - accuracy: 0.8126 - val_loss: 0.4178 - val_accuracy: 0.8091\n",
            "Epoch 49/100\n",
            "100/100 [==============================] - 125s 1s/step - loss: 0.4135 - accuracy: 0.8096 - val_loss: 0.4408 - val_accuracy: 0.7917\n",
            "Epoch 50/100\n",
            "100/100 [==============================] - 125s 1s/step - loss: 0.4077 - accuracy: 0.8141 - val_loss: 0.4205 - val_accuracy: 0.8042\n",
            "Epoch 51/100\n",
            "100/100 [==============================] - 126s 1s/step - loss: 0.4054 - accuracy: 0.8182 - val_loss: 0.4291 - val_accuracy: 0.8006\n",
            "Epoch 52/100\n",
            "100/100 [==============================] - 126s 1s/step - loss: 0.3999 - accuracy: 0.8208 - val_loss: 0.3922 - val_accuracy: 0.8233\n",
            "Epoch 53/100\n",
            "100/100 [==============================] - 126s 1s/step - loss: 0.3939 - accuracy: 0.8219 - val_loss: 0.4045 - val_accuracy: 0.8157\n",
            "Epoch 54/100\n",
            "100/100 [==============================] - 126s 1s/step - loss: 0.4010 - accuracy: 0.8182 - val_loss: 0.3939 - val_accuracy: 0.8210\n",
            "Epoch 55/100\n",
            "100/100 [==============================] - 126s 1s/step - loss: 0.3945 - accuracy: 0.8242 - val_loss: 0.3984 - val_accuracy: 0.8162\n",
            "Epoch 56/100\n",
            "100/100 [==============================] - 126s 1s/step - loss: 0.3905 - accuracy: 0.8239 - val_loss: 0.3886 - val_accuracy: 0.8224\n",
            "Epoch 57/100\n",
            "100/100 [==============================] - 126s 1s/step - loss: 0.3922 - accuracy: 0.8227 - val_loss: 0.3820 - val_accuracy: 0.8313\n",
            "Epoch 58/100\n",
            "100/100 [==============================] - 126s 1s/step - loss: 0.3845 - accuracy: 0.8283 - val_loss: 0.3865 - val_accuracy: 0.8290\n",
            "Epoch 59/100\n",
            "100/100 [==============================] - 125s 1s/step - loss: 0.3959 - accuracy: 0.8250 - val_loss: 0.3869 - val_accuracy: 0.8277\n",
            "Epoch 60/100\n",
            "100/100 [==============================] - 126s 1s/step - loss: 0.3781 - accuracy: 0.8344 - val_loss: 0.3857 - val_accuracy: 0.8237\n",
            "Epoch 61/100\n",
            "100/100 [==============================] - 126s 1s/step - loss: 0.3755 - accuracy: 0.8302 - val_loss: 0.3780 - val_accuracy: 0.8321\n",
            "Epoch 62/100\n",
            "100/100 [==============================] - 126s 1s/step - loss: 0.3831 - accuracy: 0.8262 - val_loss: 0.3889 - val_accuracy: 0.8264\n",
            "Epoch 63/100\n",
            "100/100 [==============================] - 126s 1s/step - loss: 0.3801 - accuracy: 0.8292 - val_loss: 0.3772 - val_accuracy: 0.8348\n",
            "Epoch 64/100\n",
            "100/100 [==============================] - 126s 1s/step - loss: 0.3726 - accuracy: 0.8390 - val_loss: 0.4032 - val_accuracy: 0.8184\n",
            "Epoch 65/100\n",
            "100/100 [==============================] - 126s 1s/step - loss: 0.3818 - accuracy: 0.8291 - val_loss: 0.4417 - val_accuracy: 0.7931\n",
            "Epoch 66/100\n",
            "100/100 [==============================] - 126s 1s/step - loss: 0.3763 - accuracy: 0.8330 - val_loss: 0.3855 - val_accuracy: 0.8282\n",
            "Epoch 67/100\n",
            "100/100 [==============================] - 126s 1s/step - loss: 0.3613 - accuracy: 0.8404 - val_loss: 0.3760 - val_accuracy: 0.8299\n",
            "Epoch 68/100\n",
            "100/100 [==============================] - 126s 1s/step - loss: 0.3703 - accuracy: 0.8361 - val_loss: 0.3752 - val_accuracy: 0.8326\n",
            "Epoch 69/100\n",
            "100/100 [==============================] - 126s 1s/step - loss: 0.3647 - accuracy: 0.8398 - val_loss: 0.3738 - val_accuracy: 0.8330\n",
            "Epoch 70/100\n",
            "100/100 [==============================] - 126s 1s/step - loss: 0.3618 - accuracy: 0.8385 - val_loss: 0.3786 - val_accuracy: 0.8317\n",
            "Epoch 71/100\n",
            "100/100 [==============================] - 126s 1s/step - loss: 0.3581 - accuracy: 0.8426 - val_loss: 0.3795 - val_accuracy: 0.8250\n",
            "Epoch 72/100\n",
            "100/100 [==============================] - 126s 1s/step - loss: 0.3639 - accuracy: 0.8377 - val_loss: 0.3746 - val_accuracy: 0.8326\n",
            "Epoch 73/100\n",
            "100/100 [==============================] - 126s 1s/step - loss: 0.3617 - accuracy: 0.8383 - val_loss: 0.3958 - val_accuracy: 0.8175\n",
            "Epoch 74/100\n",
            "100/100 [==============================] - 126s 1s/step - loss: 0.3617 - accuracy: 0.8398 - val_loss: 0.3713 - val_accuracy: 0.8384\n",
            "Epoch 75/100\n",
            "100/100 [==============================] - 126s 1s/step - loss: 0.3504 - accuracy: 0.8466 - val_loss: 0.3673 - val_accuracy: 0.8326\n",
            "Epoch 76/100\n",
            "100/100 [==============================] - 126s 1s/step - loss: 0.3497 - accuracy: 0.8491 - val_loss: 0.3642 - val_accuracy: 0.8393\n",
            "Epoch 77/100\n",
            "100/100 [==============================] - 126s 1s/step - loss: 0.3501 - accuracy: 0.8484 - val_loss: 0.3725 - val_accuracy: 0.8313\n",
            "Epoch 78/100\n",
            "100/100 [==============================] - 126s 1s/step - loss: 0.3503 - accuracy: 0.8470 - val_loss: 0.3600 - val_accuracy: 0.8428\n",
            "Epoch 79/100\n",
            "100/100 [==============================] - 126s 1s/step - loss: 0.3410 - accuracy: 0.8520 - val_loss: 0.3592 - val_accuracy: 0.8433\n",
            "Epoch 80/100\n",
            "100/100 [==============================] - 126s 1s/step - loss: 0.3459 - accuracy: 0.8480 - val_loss: 0.3584 - val_accuracy: 0.8415\n",
            "Epoch 81/100\n",
            "100/100 [==============================] - 126s 1s/step - loss: 0.3454 - accuracy: 0.8512 - val_loss: 0.3545 - val_accuracy: 0.8455\n",
            "Epoch 82/100\n",
            "100/100 [==============================] - 127s 1s/step - loss: 0.3355 - accuracy: 0.8558 - val_loss: 0.3832 - val_accuracy: 0.8295\n",
            "Epoch 83/100\n",
            "100/100 [==============================] - 126s 1s/step - loss: 0.3386 - accuracy: 0.8534 - val_loss: 0.3922 - val_accuracy: 0.8237\n",
            "Epoch 84/100\n",
            "100/100 [==============================] - 126s 1s/step - loss: 0.3365 - accuracy: 0.8528 - val_loss: 0.3570 - val_accuracy: 0.8433\n",
            "Epoch 85/100\n",
            "100/100 [==============================] - 126s 1s/step - loss: 0.3345 - accuracy: 0.8547 - val_loss: 0.3650 - val_accuracy: 0.8366\n",
            "Epoch 86/100\n",
            "100/100 [==============================] - 126s 1s/step - loss: 0.3355 - accuracy: 0.8532 - val_loss: 0.3694 - val_accuracy: 0.8317\n",
            "Epoch 87/100\n",
            "100/100 [==============================] - 126s 1s/step - loss: 0.3316 - accuracy: 0.8539 - val_loss: 0.3604 - val_accuracy: 0.8397\n",
            "Epoch 88/100\n",
            "100/100 [==============================] - 126s 1s/step - loss: 0.3265 - accuracy: 0.8571 - val_loss: 0.3556 - val_accuracy: 0.8424\n",
            "Epoch 89/100\n",
            "100/100 [==============================] - 126s 1s/step - loss: 0.3248 - accuracy: 0.8601 - val_loss: 0.3564 - val_accuracy: 0.8393\n",
            "Epoch 90/100\n",
            "100/100 [==============================] - 125s 1s/step - loss: 0.3283 - accuracy: 0.8571 - val_loss: 0.3956 - val_accuracy: 0.8250\n",
            "Epoch 91/100\n",
            "100/100 [==============================] - 125s 1s/step - loss: 0.3317 - accuracy: 0.8565 - val_loss: 0.3803 - val_accuracy: 0.8321\n",
            "Epoch 92/100\n",
            "100/100 [==============================] - 125s 1s/step - loss: 0.3252 - accuracy: 0.8576 - val_loss: 0.3494 - val_accuracy: 0.8450\n",
            "Epoch 93/100\n",
            "100/100 [==============================] - 124s 1s/step - loss: 0.3197 - accuracy: 0.8604 - val_loss: 0.3716 - val_accuracy: 0.8353\n",
            "Epoch 94/100\n",
            "100/100 [==============================] - 124s 1s/step - loss: 0.3178 - accuracy: 0.8652 - val_loss: 0.3706 - val_accuracy: 0.8339\n",
            "Epoch 95/100\n",
            "100/100 [==============================] - 124s 1s/step - loss: 0.3171 - accuracy: 0.8628 - val_loss: 0.3534 - val_accuracy: 0.8455\n",
            "Epoch 96/100\n",
            "100/100 [==============================] - 125s 1s/step - loss: 0.3147 - accuracy: 0.8632 - val_loss: 0.3514 - val_accuracy: 0.8517\n",
            "Epoch 97/100\n",
            "100/100 [==============================] - 125s 1s/step - loss: 0.3152 - accuracy: 0.8667 - val_loss: 0.3456 - val_accuracy: 0.8499\n",
            "Epoch 98/100\n",
            "100/100 [==============================] - 124s 1s/step - loss: 0.3154 - accuracy: 0.8611 - val_loss: 0.3554 - val_accuracy: 0.8428\n",
            "Epoch 99/100\n",
            "100/100 [==============================] - 125s 1s/step - loss: 0.3119 - accuracy: 0.8667 - val_loss: 0.3484 - val_accuracy: 0.8450\n",
            "Epoch 100/100\n",
            "100/100 [==============================] - 124s 1s/step - loss: 0.3052 - accuracy: 0.8727 - val_loss: 0.3430 - val_accuracy: 0.8499\n"
          ],
          "name": "stdout"
        }
      ]
    },
    {
      "cell_type": "code",
      "metadata": {
        "id": "IsiBWnOxGs6_",
        "outputId": "8aa92b6b-fba5-449d-c90b-930e91c2e45f",
        "colab": {
          "base_uri": "https://localhost:8080/",
          "height": 278
        }
      },
      "source": [
        "plot_loss(history_base_model)"
      ],
      "execution_count": null,
      "outputs": [
        {
          "output_type": "display_data",
          "data": {
            "image/png": "[encoded data removed]",
            "text/plain": [
              "<Figure size 432x288 with 1 Axes>"
            ]
          },
          "metadata": {
            "tags": [],
            "needs_background": "light"
          }
        }
      ]
    },
    {
      "cell_type": "markdown",
      "metadata": {
        "id": "OWT6cauy_eGB"
      },
      "source": [
        "val_loss: 0.3430 - val_accuracy: 0.8499"
      ]
    },
    {
      "cell_type": "markdown",
      "metadata": {
        "id": "xKddAjFt_fGz"
      },
      "source": [
        "Untuk data augmentation, saya mendapatkan akurasi sekitar 84%. dari grafik loss juga dapat dilihat loss dan val_loss cenderung sama nilainya, walaupun ada beberapa nilai yang naik turun.\n",
        "jika dibandingkan dengan baseline, menggunakan data augmentation lebih baik."
      ]
    }
  ]
}