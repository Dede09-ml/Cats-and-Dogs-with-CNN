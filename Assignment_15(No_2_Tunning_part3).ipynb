{
  "nbformat": 4,
  "nbformat_minor": 0,
  "metadata": {
    "colab": {
      "name": "Assignment 15(No.2 Tunning_part3).ipynb",
      "provenance": [],
      "collapsed_sections": []
    },
    "kernelspec": {
      "name": "python3",
      "display_name": "Python 3"
    },
    "accelerator": "GPU"
  },
  "cells": [
    {
      "cell_type": "code",
      "metadata": {
        "id": "EJGo-xIFS3LP",
        "outputId": "ad8bd65c-98c4-405e-97fe-da7d416f7eff",
        "colab": {
          "base_uri": "https://localhost:8080/",
          "height": 50
        }
      },
      "source": [
        "zip_path = '/content/drive/My\\ Drive/Dataset/Neural\\ Data/cats-dogs.zip'\n",
        "\n",
        "!cp {zip_path} /content/\n",
        "\n",
        "!cd /content/\n",
        "\n",
        "!unzip -q /content/cats-dogs.zip -d /content\n",
        "\n",
        "!rm /content/cats-dogs.zip"
      ],
      "execution_count": null,
      "outputs": [
        {
          "output_type": "stream",
          "text": [
            "replace /content/test/cat/14392.png? [y]es, [n]o, [A]ll, [N]one, [r]ename: y\n",
            "replace /content/test/cat/14386.png? [y]es, [n]o, [A]ll, [N]one, [r]ename: A\n"
          ],
          "name": "stdout"
        }
      ]
    },
    {
      "cell_type": "code",
      "metadata": {
        "id": "4dFNVZCOTeMY"
      },
      "source": [
        "import numpy as np\n",
        "import os\n",
        "import matplotlib.pyplot as plt"
      ],
      "execution_count": null,
      "outputs": []
    },
    {
      "cell_type": "code",
      "metadata": {
        "id": "2Rf73psaTgLb"
      },
      "source": [
        "def plot_loss(history):\n",
        "  plt.plot(history.history['loss'], label='loss')\n",
        "  plt.plot(history.history['val_loss'], label='val_loss')\n",
        "  plt.xlabel('Epoch')\n",
        "  plt.ylabel('Loss')\n",
        "  plt.legend()\n",
        "  plt.grid(True)"
      ],
      "execution_count": null,
      "outputs": []
    },
    {
      "cell_type": "markdown",
      "metadata": {
        "id": "ilzY6kZVkk2w"
      },
      "source": [
        "Tunning : Deep CNN, 3 layer Conv2D(filter = (32, 64, 128), kernel=3x3, activation=relu, kernel_initializer='glorot_uniform', padding='same'). optimizer=Adam. Data train dilakukan augmentation"
      ]
    },
    {
      "cell_type": "code",
      "metadata": {
        "id": "LuqGvIXgTgrz",
        "outputId": "083dcccb-5a1b-410d-eb47-4eded0505a52",
        "colab": {
          "base_uri": "https://localhost:8080/",
          "height": 440
        }
      },
      "source": [
        "from tensorflow.keras.models import Sequential\n",
        "from tensorflow.keras.layers import Conv2D, MaxPooling2D, Dense, Flatten\n",
        "from tensorflow.keras.optimizers import Adam\n",
        "\n",
        "model = Sequential()\n",
        "model.add(Conv2D(32, (3, 3), activation='relu', kernel_initializer='glorot_uniform', padding='same', input_shape=(200, 200, 3)))\n",
        "model.add(MaxPooling2D((2, 2)))\n",
        "\n",
        "model.add(Conv2D(64, (3, 3), activation='relu', kernel_initializer='glorot_uniform', padding='same', input_shape=(200, 200, 3)))\n",
        "model.add(MaxPooling2D((2, 2)))\n",
        "\n",
        "model.add(Conv2D(128, (3, 3), activation='relu', kernel_initializer='glorot_uniform', padding='same', input_shape=(200, 200, 3)))\n",
        "model.add(MaxPooling2D((2, 2)))\n",
        "\n",
        "model.add(Flatten())\n",
        "\n",
        "model.add(Dense(128, activation='relu', kernel_initializer='glorot_uniform'))\n",
        "model.add(Dense(1, activation='sigmoid'))\n",
        "\n",
        "opt = Adam(lr=0.001, beta_1=0.9, beta_2=0.999, epsilon=1e-07, amsgrad=False)\n",
        "\n",
        "model.compile(optimizer=opt, loss='binary_crossentropy', metrics=['accuracy'])\n",
        "\n",
        "model.summary()"
      ],
      "execution_count": null,
      "outputs": [
        {
          "output_type": "stream",
          "text": [
            "Model: \"sequential_2\"\n",
            "_________________________________________________________________\n",
            "Layer (type)                 Output Shape              Param #   \n",
            "=================================================================\n",
            "conv2d_6 (Conv2D)            (None, 200, 200, 32)      896       \n",
            "_________________________________________________________________\n",
            "max_pooling2d_6 (MaxPooling2 (None, 100, 100, 32)      0         \n",
            "_________________________________________________________________\n",
            "conv2d_7 (Conv2D)            (None, 100, 100, 64)      18496     \n",
            "_________________________________________________________________\n",
            "max_pooling2d_7 (MaxPooling2 (None, 50, 50, 64)        0         \n",
            "_________________________________________________________________\n",
            "conv2d_8 (Conv2D)            (None, 50, 50, 128)       73856     \n",
            "_________________________________________________________________\n",
            "max_pooling2d_8 (MaxPooling2 (None, 25, 25, 128)       0         \n",
            "_________________________________________________________________\n",
            "flatten_2 (Flatten)          (None, 80000)             0         \n",
            "_________________________________________________________________\n",
            "dense_4 (Dense)              (None, 128)               10240128  \n",
            "_________________________________________________________________\n",
            "dense_5 (Dense)              (None, 1)                 129       \n",
            "=================================================================\n",
            "Total params: 10,333,505\n",
            "Trainable params: 10,333,505\n",
            "Non-trainable params: 0\n",
            "_________________________________________________________________\n"
          ],
          "name": "stdout"
        }
      ]
    },
    {
      "cell_type": "code",
      "metadata": {
        "id": "2NX05YCKTiND",
        "outputId": "1a236562-4065-4f13-9ab6-1589644f6af8",
        "colab": {
          "base_uri": "https://localhost:8080/",
          "height": 50
        }
      },
      "source": [
        "dataset_dir = '/content/'\n",
        "\n",
        "from tensorflow.keras.preprocessing.image import ImageDataGenerator\n",
        "\n",
        "# datagen = ImageDataGenerator(rescale=1.0/255.0)\n",
        "train_datagen = ImageDataGenerator(rescale=1.0/255.0, width_shift_range=0.1, height_shift_range=0.1, horizontal_flip=True)\n",
        "test_datagen = ImageDataGenerator(rescale=1.0/255.0)\n",
        "\n",
        "train_iterator = train_datagen.flow_from_directory(os.path.join(dataset_dir, 'train'), class_mode='binary', batch_size=128, target_size=(200, 200))\n",
        "test_iterator = test_datagen.flow_from_directory(os.path.join(dataset_dir, 'test'), class_mode='binary', batch_size=128, target_size=(200, 200))"
      ],
      "execution_count": null,
      "outputs": [
        {
          "output_type": "stream",
          "text": [
            "Found 12749 images belonging to 2 classes.\n",
            "Found 2252 images belonging to 2 classes.\n"
          ],
          "name": "stdout"
        }
      ]
    },
    {
      "cell_type": "code",
      "metadata": {
        "id": "uPvqYKPSTj_j",
        "outputId": "0f176d60-bcc9-44f2-c1b0-850476d518bf",
        "colab": {
          "base_uri": "https://localhost:8080/",
          "height": 1000
        }
      },
      "source": [
        "history_model_tunning3 = model.fit_generator(train_iterator, steps_per_epoch=len(train_iterator), validation_data=test_iterator, validation_steps=len(test_iterator), epochs=100)"
      ],
      "execution_count": null,
      "outputs": [
        {
          "output_type": "stream",
          "text": [
            "Epoch 1/100\n",
            "100/100 [==============================] - 143s 1s/step - loss: 0.7339 - accuracy: 0.5550 - val_loss: 0.6163 - val_accuracy: 0.6425\n",
            "Epoch 2/100\n",
            "100/100 [==============================] - 142s 1s/step - loss: 0.5937 - accuracy: 0.6833 - val_loss: 0.5402 - val_accuracy: 0.7211\n",
            "Epoch 3/100\n",
            "100/100 [==============================] - 141s 1s/step - loss: 0.5402 - accuracy: 0.7299 - val_loss: 0.4959 - val_accuracy: 0.7598\n",
            "Epoch 4/100\n",
            "100/100 [==============================] - 142s 1s/step - loss: 0.5162 - accuracy: 0.7441 - val_loss: 0.4908 - val_accuracy: 0.7651\n",
            "Epoch 5/100\n",
            "100/100 [==============================] - 141s 1s/step - loss: 0.4805 - accuracy: 0.7669 - val_loss: 0.4513 - val_accuracy: 0.7957\n",
            "Epoch 6/100\n",
            "100/100 [==============================] - 140s 1s/step - loss: 0.4466 - accuracy: 0.7905 - val_loss: 0.4290 - val_accuracy: 0.8011\n",
            "Epoch 7/100\n",
            "100/100 [==============================] - 142s 1s/step - loss: 0.4363 - accuracy: 0.7990 - val_loss: 0.4223 - val_accuracy: 0.8091\n",
            "Epoch 8/100\n",
            "100/100 [==============================] - 143s 1s/step - loss: 0.4116 - accuracy: 0.8136 - val_loss: 0.3861 - val_accuracy: 0.8273\n",
            "Epoch 9/100\n",
            "100/100 [==============================] - 148s 1s/step - loss: 0.4080 - accuracy: 0.8143 - val_loss: 0.3650 - val_accuracy: 0.8384\n",
            "Epoch 10/100\n",
            "100/100 [==============================] - 143s 1s/step - loss: 0.3895 - accuracy: 0.8248 - val_loss: 0.3638 - val_accuracy: 0.8459\n",
            "Epoch 11/100\n",
            "100/100 [==============================] - 143s 1s/step - loss: 0.3821 - accuracy: 0.8275 - val_loss: 0.3622 - val_accuracy: 0.8406\n",
            "Epoch 12/100\n",
            "100/100 [==============================] - 143s 1s/step - loss: 0.3672 - accuracy: 0.8384 - val_loss: 0.3353 - val_accuracy: 0.8592\n",
            "Epoch 13/100\n",
            "100/100 [==============================] - 143s 1s/step - loss: 0.3516 - accuracy: 0.8478 - val_loss: 0.3341 - val_accuracy: 0.8619\n",
            "Epoch 14/100\n",
            "100/100 [==============================] - 142s 1s/step - loss: 0.3452 - accuracy: 0.8470 - val_loss: 0.3534 - val_accuracy: 0.8490\n",
            "Epoch 15/100\n",
            "100/100 [==============================] - 140s 1s/step - loss: 0.3334 - accuracy: 0.8527 - val_loss: 0.3115 - val_accuracy: 0.8632\n",
            "Epoch 16/100\n",
            "100/100 [==============================] - 138s 1s/step - loss: 0.3206 - accuracy: 0.8612 - val_loss: 0.3218 - val_accuracy: 0.8597\n",
            "Epoch 17/100\n",
            "100/100 [==============================] - 139s 1s/step - loss: 0.3115 - accuracy: 0.8676 - val_loss: 0.3015 - val_accuracy: 0.8690\n",
            "Epoch 18/100\n",
            "100/100 [==============================] - 139s 1s/step - loss: 0.3020 - accuracy: 0.8719 - val_loss: 0.2920 - val_accuracy: 0.8757\n",
            "Epoch 19/100\n",
            "100/100 [==============================] - 139s 1s/step - loss: 0.2890 - accuracy: 0.8736 - val_loss: 0.2831 - val_accuracy: 0.8801\n",
            "Epoch 20/100\n",
            "100/100 [==============================] - 138s 1s/step - loss: 0.2890 - accuracy: 0.8792 - val_loss: 0.2962 - val_accuracy: 0.8708\n",
            "Epoch 21/100\n",
            "100/100 [==============================] - 137s 1s/step - loss: 0.2766 - accuracy: 0.8852 - val_loss: 0.2897 - val_accuracy: 0.8854\n",
            "Epoch 22/100\n",
            "100/100 [==============================] - 136s 1s/step - loss: 0.2606 - accuracy: 0.8898 - val_loss: 0.2795 - val_accuracy: 0.8823\n",
            "Epoch 23/100\n",
            "100/100 [==============================] - 136s 1s/step - loss: 0.2527 - accuracy: 0.8934 - val_loss: 0.2625 - val_accuracy: 0.8877\n",
            "Epoch 24/100\n",
            "100/100 [==============================] - 136s 1s/step - loss: 0.2536 - accuracy: 0.8937 - val_loss: 0.2548 - val_accuracy: 0.8917\n",
            "Epoch 25/100\n",
            "100/100 [==============================] - 135s 1s/step - loss: 0.2401 - accuracy: 0.9012 - val_loss: 0.2776 - val_accuracy: 0.8863\n",
            "Epoch 26/100\n",
            "100/100 [==============================] - 135s 1s/step - loss: 0.2347 - accuracy: 0.9029 - val_loss: 0.2834 - val_accuracy: 0.8832\n",
            "Epoch 27/100\n",
            "100/100 [==============================] - 135s 1s/step - loss: 0.2356 - accuracy: 0.9046 - val_loss: 0.2928 - val_accuracy: 0.8814\n",
            "Epoch 28/100\n",
            "100/100 [==============================] - 136s 1s/step - loss: 0.2306 - accuracy: 0.9057 - val_loss: 0.2580 - val_accuracy: 0.8885\n",
            "Epoch 29/100\n",
            "100/100 [==============================] - 135s 1s/step - loss: 0.2191 - accuracy: 0.9095 - val_loss: 0.2742 - val_accuracy: 0.8770\n",
            "Epoch 30/100\n",
            "100/100 [==============================] - 136s 1s/step - loss: 0.2279 - accuracy: 0.9068 - val_loss: 0.2514 - val_accuracy: 0.9005\n",
            "Epoch 31/100\n",
            "100/100 [==============================] - 138s 1s/step - loss: 0.2078 - accuracy: 0.9152 - val_loss: 0.2448 - val_accuracy: 0.8961\n",
            "Epoch 32/100\n",
            "100/100 [==============================] - 138s 1s/step - loss: 0.1985 - accuracy: 0.9209 - val_loss: 0.2371 - val_accuracy: 0.9028\n",
            "Epoch 33/100\n",
            "100/100 [==============================] - 137s 1s/step - loss: 0.2011 - accuracy: 0.9166 - val_loss: 0.2607 - val_accuracy: 0.8956\n",
            "Epoch 34/100\n",
            "100/100 [==============================] - 135s 1s/step - loss: 0.1998 - accuracy: 0.9187 - val_loss: 0.2365 - val_accuracy: 0.8988\n",
            "Epoch 35/100\n",
            "100/100 [==============================] - 135s 1s/step - loss: 0.1919 - accuracy: 0.9194 - val_loss: 0.2591 - val_accuracy: 0.8930\n",
            "Epoch 36/100\n",
            "100/100 [==============================] - 135s 1s/step - loss: 0.1875 - accuracy: 0.9234 - val_loss: 0.2615 - val_accuracy: 0.8970\n",
            "Epoch 37/100\n",
            "100/100 [==============================] - 135s 1s/step - loss: 0.1792 - accuracy: 0.9296 - val_loss: 0.2421 - val_accuracy: 0.9005\n",
            "Epoch 38/100\n",
            "100/100 [==============================] - 135s 1s/step - loss: 0.1807 - accuracy: 0.9241 - val_loss: 0.2584 - val_accuracy: 0.8956\n",
            "Epoch 39/100\n",
            "100/100 [==============================] - 135s 1s/step - loss: 0.1673 - accuracy: 0.9302 - val_loss: 0.2380 - val_accuracy: 0.9019\n",
            "Epoch 40/100\n",
            "100/100 [==============================] - 134s 1s/step - loss: 0.1670 - accuracy: 0.9312 - val_loss: 0.2602 - val_accuracy: 0.8939\n",
            "Epoch 41/100\n",
            "100/100 [==============================] - 133s 1s/step - loss: 0.1589 - accuracy: 0.9369 - val_loss: 0.2576 - val_accuracy: 0.8956\n",
            "Epoch 42/100\n",
            "100/100 [==============================] - 133s 1s/step - loss: 0.1647 - accuracy: 0.9332 - val_loss: 0.2391 - val_accuracy: 0.9099\n",
            "Epoch 43/100\n",
            "100/100 [==============================] - 133s 1s/step - loss: 0.1561 - accuracy: 0.9395 - val_loss: 0.2486 - val_accuracy: 0.9050\n",
            "Epoch 44/100\n",
            "100/100 [==============================] - 133s 1s/step - loss: 0.1513 - accuracy: 0.9409 - val_loss: 0.2452 - val_accuracy: 0.9036\n",
            "Epoch 45/100\n",
            "100/100 [==============================] - 133s 1s/step - loss: 0.1537 - accuracy: 0.9380 - val_loss: 0.2439 - val_accuracy: 0.9099\n",
            "Epoch 46/100\n",
            "100/100 [==============================] - 132s 1s/step - loss: 0.1380 - accuracy: 0.9454 - val_loss: 0.2299 - val_accuracy: 0.9090\n",
            "Epoch 47/100\n",
            "100/100 [==============================] - 133s 1s/step - loss: 0.1420 - accuracy: 0.9426 - val_loss: 0.2520 - val_accuracy: 0.9076\n",
            "Epoch 48/100\n",
            "100/100 [==============================] - 132s 1s/step - loss: 0.1410 - accuracy: 0.9452 - val_loss: 0.2545 - val_accuracy: 0.9112\n",
            "Epoch 49/100\n",
            "100/100 [==============================] - 133s 1s/step - loss: 0.1378 - accuracy: 0.9458 - val_loss: 0.2573 - val_accuracy: 0.9023\n",
            "Epoch 50/100\n",
            "100/100 [==============================] - 133s 1s/step - loss: 0.1359 - accuracy: 0.9472 - val_loss: 0.2511 - val_accuracy: 0.9152\n",
            "Epoch 51/100\n",
            "100/100 [==============================] - 133s 1s/step - loss: 0.1314 - accuracy: 0.9478 - val_loss: 0.2620 - val_accuracy: 0.9054\n",
            "Epoch 52/100\n",
            "100/100 [==============================] - 133s 1s/step - loss: 0.1249 - accuracy: 0.9532 - val_loss: 0.2618 - val_accuracy: 0.9139\n",
            "Epoch 53/100\n",
            "100/100 [==============================] - 133s 1s/step - loss: 0.1290 - accuracy: 0.9513 - val_loss: 0.3290 - val_accuracy: 0.8801\n",
            "Epoch 54/100\n",
            "100/100 [==============================] - 133s 1s/step - loss: 0.1272 - accuracy: 0.9505 - val_loss: 0.2564 - val_accuracy: 0.9099\n",
            "Epoch 55/100\n",
            "100/100 [==============================] - 133s 1s/step - loss: 0.1111 - accuracy: 0.9554 - val_loss: 0.2488 - val_accuracy: 0.9063\n",
            "Epoch 56/100\n",
            "100/100 [==============================] - 133s 1s/step - loss: 0.1189 - accuracy: 0.9545 - val_loss: 0.2510 - val_accuracy: 0.9143\n",
            "Epoch 57/100\n",
            "100/100 [==============================] - 133s 1s/step - loss: 0.1063 - accuracy: 0.9587 - val_loss: 0.2716 - val_accuracy: 0.9076\n",
            "Epoch 58/100\n",
            "100/100 [==============================] - 134s 1s/step - loss: 0.1067 - accuracy: 0.9586 - val_loss: 0.2670 - val_accuracy: 0.9085\n",
            "Epoch 59/100\n",
            "100/100 [==============================] - 134s 1s/step - loss: 0.1104 - accuracy: 0.9579 - val_loss: 0.2591 - val_accuracy: 0.9125\n",
            "Epoch 60/100\n",
            "100/100 [==============================] - 133s 1s/step - loss: 0.1056 - accuracy: 0.9601 - val_loss: 0.2779 - val_accuracy: 0.8934\n",
            "Epoch 61/100\n",
            "100/100 [==============================] - 133s 1s/step - loss: 0.1110 - accuracy: 0.9576 - val_loss: 0.2506 - val_accuracy: 0.9161\n",
            "Epoch 62/100\n",
            "100/100 [==============================] - 133s 1s/step - loss: 0.0932 - accuracy: 0.9648 - val_loss: 0.2635 - val_accuracy: 0.9094\n",
            "Epoch 63/100\n",
            "100/100 [==============================] - 133s 1s/step - loss: 0.1050 - accuracy: 0.9608 - val_loss: 0.2916 - val_accuracy: 0.9036\n",
            "Epoch 64/100\n",
            "100/100 [==============================] - 133s 1s/step - loss: 0.1038 - accuracy: 0.9611 - val_loss: 0.2619 - val_accuracy: 0.9161\n",
            "Epoch 65/100\n",
            "100/100 [==============================] - 133s 1s/step - loss: 0.0990 - accuracy: 0.9624 - val_loss: 0.2901 - val_accuracy: 0.8992\n",
            "Epoch 66/100\n",
            "100/100 [==============================] - 133s 1s/step - loss: 0.0954 - accuracy: 0.9645 - val_loss: 0.2510 - val_accuracy: 0.9192\n",
            "Epoch 67/100\n",
            "100/100 [==============================] - 132s 1s/step - loss: 0.0947 - accuracy: 0.9648 - val_loss: 0.2785 - val_accuracy: 0.9054\n",
            "Epoch 68/100\n",
            "100/100 [==============================] - 132s 1s/step - loss: 0.0899 - accuracy: 0.9664 - val_loss: 0.2737 - val_accuracy: 0.9090\n",
            "Epoch 69/100\n",
            "100/100 [==============================] - 132s 1s/step - loss: 0.0819 - accuracy: 0.9678 - val_loss: 0.2923 - val_accuracy: 0.9063\n",
            "Epoch 70/100\n",
            "100/100 [==============================] - 132s 1s/step - loss: 0.0904 - accuracy: 0.9666 - val_loss: 0.2669 - val_accuracy: 0.9214\n",
            "Epoch 71/100\n",
            "100/100 [==============================] - 132s 1s/step - loss: 0.0798 - accuracy: 0.9707 - val_loss: 0.2860 - val_accuracy: 0.9103\n",
            "Epoch 72/100\n",
            "100/100 [==============================] - 132s 1s/step - loss: 0.0766 - accuracy: 0.9718 - val_loss: 0.3002 - val_accuracy: 0.9081\n",
            "Epoch 73/100\n",
            "100/100 [==============================] - 132s 1s/step - loss: 0.0846 - accuracy: 0.9684 - val_loss: 0.2803 - val_accuracy: 0.9116\n",
            "Epoch 74/100\n",
            "100/100 [==============================] - 132s 1s/step - loss: 0.0852 - accuracy: 0.9684 - val_loss: 0.3079 - val_accuracy: 0.8988\n",
            "Epoch 75/100\n",
            "100/100 [==============================] - 132s 1s/step - loss: 0.0806 - accuracy: 0.9694 - val_loss: 0.2688 - val_accuracy: 0.9147\n",
            "Epoch 76/100\n",
            "100/100 [==============================] - 131s 1s/step - loss: 0.0773 - accuracy: 0.9727 - val_loss: 0.2998 - val_accuracy: 0.9067\n",
            "Epoch 77/100\n",
            "100/100 [==============================] - 132s 1s/step - loss: 0.0837 - accuracy: 0.9678 - val_loss: 0.2880 - val_accuracy: 0.9125\n",
            "Epoch 78/100\n",
            "100/100 [==============================] - 131s 1s/step - loss: 0.0726 - accuracy: 0.9733 - val_loss: 0.3027 - val_accuracy: 0.9130\n",
            "Epoch 79/100\n",
            "100/100 [==============================] - 131s 1s/step - loss: 0.0770 - accuracy: 0.9714 - val_loss: 0.3057 - val_accuracy: 0.9054\n",
            "Epoch 80/100\n",
            "100/100 [==============================] - 132s 1s/step - loss: 0.0687 - accuracy: 0.9738 - val_loss: 0.2995 - val_accuracy: 0.9090\n",
            "Epoch 81/100\n",
            "100/100 [==============================] - 131s 1s/step - loss: 0.0826 - accuracy: 0.9707 - val_loss: 0.3188 - val_accuracy: 0.9001\n",
            "Epoch 82/100\n",
            "100/100 [==============================] - 131s 1s/step - loss: 0.0728 - accuracy: 0.9734 - val_loss: 0.3236 - val_accuracy: 0.9072\n",
            "Epoch 83/100\n",
            "100/100 [==============================] - 132s 1s/step - loss: 0.0656 - accuracy: 0.9749 - val_loss: 0.3217 - val_accuracy: 0.9121\n",
            "Epoch 84/100\n",
            "100/100 [==============================] - 132s 1s/step - loss: 0.0690 - accuracy: 0.9743 - val_loss: 0.3593 - val_accuracy: 0.9001\n",
            "Epoch 85/100\n",
            "100/100 [==============================] - 132s 1s/step - loss: 0.0662 - accuracy: 0.9751 - val_loss: 0.3059 - val_accuracy: 0.9174\n",
            "Epoch 86/100\n",
            "100/100 [==============================] - 133s 1s/step - loss: 0.0680 - accuracy: 0.9763 - val_loss: 0.3245 - val_accuracy: 0.9081\n",
            "Epoch 87/100\n",
            "100/100 [==============================] - 133s 1s/step - loss: 0.0640 - accuracy: 0.9758 - val_loss: 0.3074 - val_accuracy: 0.9107\n",
            "Epoch 88/100\n",
            "100/100 [==============================] - 133s 1s/step - loss: 0.0675 - accuracy: 0.9746 - val_loss: 0.2886 - val_accuracy: 0.9156\n",
            "Epoch 89/100\n",
            "100/100 [==============================] - 133s 1s/step - loss: 0.0673 - accuracy: 0.9746 - val_loss: 0.3049 - val_accuracy: 0.9147\n",
            "Epoch 90/100\n",
            "100/100 [==============================] - 132s 1s/step - loss: 0.0573 - accuracy: 0.9791 - val_loss: 0.3570 - val_accuracy: 0.9090\n",
            "Epoch 91/100\n",
            "100/100 [==============================] - 133s 1s/step - loss: 0.0638 - accuracy: 0.9756 - val_loss: 0.2834 - val_accuracy: 0.9161\n",
            "Epoch 92/100\n",
            "100/100 [==============================] - 133s 1s/step - loss: 0.0532 - accuracy: 0.9809 - val_loss: 0.3151 - val_accuracy: 0.9152\n",
            "Epoch 93/100\n",
            "100/100 [==============================] - 133s 1s/step - loss: 0.0607 - accuracy: 0.9776 - val_loss: 0.3267 - val_accuracy: 0.9134\n",
            "Epoch 94/100\n",
            "100/100 [==============================] - 133s 1s/step - loss: 0.0604 - accuracy: 0.9771 - val_loss: 0.3140 - val_accuracy: 0.9121\n",
            "Epoch 95/100\n",
            "100/100 [==============================] - 133s 1s/step - loss: 0.0732 - accuracy: 0.9718 - val_loss: 0.2565 - val_accuracy: 0.9192\n",
            "Epoch 96/100\n",
            "100/100 [==============================] - 133s 1s/step - loss: 0.0582 - accuracy: 0.9783 - val_loss: 0.2993 - val_accuracy: 0.9112\n",
            "Epoch 97/100\n",
            "100/100 [==============================] - 134s 1s/step - loss: 0.0527 - accuracy: 0.9799 - val_loss: 0.3028 - val_accuracy: 0.9241\n",
            "Epoch 98/100\n",
            "100/100 [==============================] - 134s 1s/step - loss: 0.0631 - accuracy: 0.9758 - val_loss: 0.2911 - val_accuracy: 0.9161\n",
            "Epoch 99/100\n",
            "100/100 [==============================] - 134s 1s/step - loss: 0.0531 - accuracy: 0.9799 - val_loss: 0.3490 - val_accuracy: 0.9156\n",
            "Epoch 100/100\n",
            "100/100 [==============================] - 134s 1s/step - loss: 0.0624 - accuracy: 0.9771 - val_loss: 0.3143 - val_accuracy: 0.9090\n"
          ],
          "name": "stdout"
        }
      ]
    },
    {
      "cell_type": "code",
      "metadata": {
        "id": "XZLX9igHTobr",
        "outputId": "fcaefa3d-5002-4b4c-8fe7-86ed0e28c21e",
        "colab": {
          "base_uri": "https://localhost:8080/",
          "height": 278
        }
      },
      "source": [
        "plot_loss(history_model_tunning3)"
      ],
      "execution_count": null,
      "outputs": [
        {
          "output_type": "display_data",
          "data": {
            "image/png": "[encoded data removed]",
            "text/plain": [
              "<Figure size 432x288 with 1 Axes>"
            ]
          },
          "metadata": {
            "tags": [],
            "needs_background": "light"
          }
        }
      ]
    },
    {
      "cell_type": "markdown",
      "metadata": {
        "id": "Nss5O37-__27"
      },
      "source": [
        "Epoch 70/100 -- val_loss: 0.2669 - val_accuracy: 0.9214"
      ]
    },
    {
      "cell_type": "markdown",
      "metadata": {
        "id": "HiMqawVZ_0RM"
      },
      "source": [
        "Ini adalah akurasi yang paling tinggi saya dapatkan yaitu 92% yaitu pada epochs 70 dan nilai val_loss nya kecil. disini saya gunakan data augmentation dan Deep CNN menggunakan optimizer Adam. Saya berasumsi Adam cukup bagus untuk digunakan sebagai optimizer."
      ]
    }
  ]
}