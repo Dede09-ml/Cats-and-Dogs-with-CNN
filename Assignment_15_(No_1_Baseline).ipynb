{
  "nbformat": 4,
  "nbformat_minor": 0,
  "metadata": {
    "colab": {
      "name": "Assignment 15 (No.1 Baseline).ipynb",
      "provenance": [],
      "collapsed_sections": [],
      "toc_visible": true
    },
    "kernelspec": {
      "name": "python3",
      "display_name": "Python 3"
    },
    "accelerator": "GPU"
  },
  "cells": [
    {
      "cell_type": "code",
      "metadata": {
        "id": "7XHXJpYU9tva",
        "outputId": "731891aa-4435-4f3b-dbbb-942fbbcfb655",
        "colab": {
          "base_uri": "https://localhost:8080/",
          "height": 33
        }
      },
      "source": [
        "from google.colab import drive\n",
        "drive.mount('/content/drive')"
      ],
      "execution_count": null,
      "outputs": [
        {
          "output_type": "stream",
          "text": [
            "Mounted at /content/drive\n"
          ],
          "name": "stdout"
        }
      ]
    },
    {
      "cell_type": "markdown",
      "metadata": {
        "id": "4qXV9t0kw0ok"
      },
      "source": [
        "Fix slow training on Google Colab: https://medium.com/datadriveninvestor/speed-up-your-image-training-on-google-colab-dc95ea1491cf"
      ]
    },
    {
      "cell_type": "code",
      "metadata": {
        "id": "k1WHGqKFx36q"
      },
      "source": [
        "zip_path = '/content/drive/My\\ Drive/Dataset/Neural\\ Data/cats-dogs.zip'\n",
        "\n",
        "!cp {zip_path} /content/\n",
        "\n",
        "!cd /content/\n",
        "\n",
        "!unzip -q /content/cats-dogs.zip -d /content\n",
        "\n",
        "# !rm /content/cats-dogs.zip"
      ],
      "execution_count": null,
      "outputs": []
    },
    {
      "cell_type": "code",
      "metadata": {
        "id": "7FwE2WEKlEKQ"
      },
      "source": [
        "import numpy as np\n",
        "import os\n",
        "import matplotlib.pyplot as plt"
      ],
      "execution_count": null,
      "outputs": []
    },
    {
      "cell_type": "code",
      "metadata": {
        "id": "Vdl88-zjxM4R"
      },
      "source": [
        "def plot_loss(history):\n",
        "  plt.plot(history.history['loss'], label='loss')\n",
        "  plt.plot(history.history['val_loss'], label='val_loss')\n",
        "  plt.xlabel('Epoch')\n",
        "  plt.ylabel('Loss')\n",
        "  plt.legend()\n",
        "  plt.grid(True)"
      ],
      "execution_count": null,
      "outputs": []
    },
    {
      "cell_type": "markdown",
      "metadata": {
        "id": "keMDICRGrhNs"
      },
      "source": [
        "# Baseline CNN model\n",
        "\n"
      ]
    },
    {
      "cell_type": "code",
      "metadata": {
        "id": "W0O7kh6rmJj9",
        "outputId": "7340a4c1-7dd7-4848-c579-b86daec082d3",
        "colab": {
          "base_uri": "https://localhost:8080/",
          "height": 310
        }
      },
      "source": [
        "from tensorflow.keras.models import Sequential\n",
        "from tensorflow.keras.layers import Conv2D, MaxPooling2D, Dense, Flatten\n",
        "from tensorflow.keras.optimizers import SGD\n",
        "\n",
        "model = Sequential()\n",
        "model.add(Conv2D(32, (3, 3), activation='relu', kernel_initializer='he_uniform', padding='same', input_shape=(200, 200, 3)))\n",
        "model.add(MaxPooling2D((2, 2)))\n",
        "\n",
        "model.add(Flatten())\n",
        "\n",
        "model.add(Dense(128, activation='relu', kernel_initializer='he_uniform'))\n",
        "model.add(Dense(1, activation='sigmoid'))\n",
        "\n",
        "opt = SGD(lr=0.001, momentum=0.9)\n",
        "\n",
        "model.compile(optimizer=opt, loss='binary_crossentropy', metrics=['accuracy'])\n",
        "\n",
        "model.summary()"
      ],
      "execution_count": null,
      "outputs": [
        {
          "output_type": "stream",
          "text": [
            "Model: \"sequential\"\n",
            "_________________________________________________________________\n",
            "Layer (type)                 Output Shape              Param #   \n",
            "=================================================================\n",
            "conv2d (Conv2D)              (None, 200, 200, 32)      896       \n",
            "_________________________________________________________________\n",
            "max_pooling2d (MaxPooling2D) (None, 100, 100, 32)      0         \n",
            "_________________________________________________________________\n",
            "flatten (Flatten)            (None, 320000)            0         \n",
            "_________________________________________________________________\n",
            "dense (Dense)                (None, 128)               40960128  \n",
            "_________________________________________________________________\n",
            "dense_1 (Dense)              (None, 1)                 129       \n",
            "=================================================================\n",
            "Total params: 40,961,153\n",
            "Trainable params: 40,961,153\n",
            "Non-trainable params: 0\n",
            "_________________________________________________________________\n"
          ],
          "name": "stdout"
        }
      ]
    },
    {
      "cell_type": "code",
      "metadata": {
        "id": "EApcJT87lUQq",
        "outputId": "ca364944-bd10-46cd-fcf7-a116a02978c2",
        "colab": {
          "base_uri": "https://localhost:8080/",
          "height": 50
        }
      },
      "source": [
        "dataset_dir = '/content/'\n",
        "\n",
        "from tensorflow.keras.preprocessing.image import ImageDataGenerator\n",
        "\n",
        "datagen = ImageDataGenerator(rescale=1.0/255.0)\n",
        "\n",
        "train_iterator = datagen.flow_from_directory(os.path.join(dataset_dir, 'train'), class_mode='binary', batch_size=128, target_size=(200, 200))\n",
        "test_iterator = datagen.flow_from_directory(os.path.join(dataset_dir, 'test'), class_mode='binary', batch_size=128, target_size=(200, 200))"
      ],
      "execution_count": null,
      "outputs": [
        {
          "output_type": "stream",
          "text": [
            "Found 12749 images belonging to 2 classes.\n",
            "Found 2252 images belonging to 2 classes.\n"
          ],
          "name": "stdout"
        }
      ]
    },
    {
      "cell_type": "code",
      "metadata": {
        "id": "znPhLUV4ma06",
        "outputId": "2be85893-8949-4a8f-e138-886356150061",
        "colab": {
          "base_uri": "https://localhost:8080/",
          "height": 1000
        }
      },
      "source": [
        "history_base_model = model.fit_generator(train_iterator, steps_per_epoch=len(train_iterator), validation_data=test_iterator, validation_steps=len(test_iterator), epochs=100)"
      ],
      "execution_count": null,
      "outputs": [
        {
          "output_type": "stream",
          "text": [
            "Epoch 1/100\n",
            "100/100 [==============================] - 43s 428ms/step - loss: 0.6695 - accuracy: 0.5932 - val_loss: 0.6623 - val_accuracy: 0.5950\n",
            "Epoch 2/100\n",
            "100/100 [==============================] - 43s 430ms/step - loss: 0.6528 - accuracy: 0.6179 - val_loss: 0.6429 - val_accuracy: 0.6399\n",
            "Epoch 3/100\n",
            "100/100 [==============================] - 43s 429ms/step - loss: 0.6407 - accuracy: 0.6275 - val_loss: 0.6303 - val_accuracy: 0.6363\n",
            "Epoch 4/100\n",
            "100/100 [==============================] - 43s 430ms/step - loss: 0.6381 - accuracy: 0.6342 - val_loss: 0.6215 - val_accuracy: 0.6532\n",
            "Epoch 5/100\n",
            "100/100 [==============================] - 43s 427ms/step - loss: 0.6270 - accuracy: 0.6401 - val_loss: 0.6111 - val_accuracy: 0.6607\n",
            "Epoch 6/100\n",
            "100/100 [==============================] - 43s 430ms/step - loss: 0.6166 - accuracy: 0.6535 - val_loss: 0.6343 - val_accuracy: 0.6341\n",
            "Epoch 7/100\n",
            "100/100 [==============================] - 43s 430ms/step - loss: 0.6087 - accuracy: 0.6644 - val_loss: 0.6319 - val_accuracy: 0.6203\n",
            "Epoch 8/100\n",
            "100/100 [==============================] - 43s 430ms/step - loss: 0.5972 - accuracy: 0.6739 - val_loss: 0.6109 - val_accuracy: 0.6607\n",
            "Epoch 9/100\n",
            "100/100 [==============================] - 43s 429ms/step - loss: 0.6092 - accuracy: 0.6636 - val_loss: 0.6188 - val_accuracy: 0.6483\n",
            "Epoch 10/100\n",
            "100/100 [==============================] - 43s 429ms/step - loss: 0.5840 - accuracy: 0.6855 - val_loss: 0.5984 - val_accuracy: 0.6718\n",
            "Epoch 11/100\n",
            "100/100 [==============================] - 43s 431ms/step - loss: 0.5745 - accuracy: 0.6972 - val_loss: 0.5999 - val_accuracy: 0.6590\n",
            "Epoch 12/100\n",
            "100/100 [==============================] - 43s 428ms/step - loss: 0.5641 - accuracy: 0.7066 - val_loss: 0.6212 - val_accuracy: 0.6656\n",
            "Epoch 13/100\n",
            "100/100 [==============================] - 43s 431ms/step - loss: 0.5563 - accuracy: 0.7111 - val_loss: 0.5783 - val_accuracy: 0.6936\n",
            "Epoch 14/100\n",
            "100/100 [==============================] - 43s 428ms/step - loss: 0.5541 - accuracy: 0.7139 - val_loss: 0.6135 - val_accuracy: 0.6727\n",
            "Epoch 15/100\n",
            "100/100 [==============================] - 43s 431ms/step - loss: 0.5382 - accuracy: 0.7255 - val_loss: 0.5840 - val_accuracy: 0.6736\n",
            "Epoch 16/100\n",
            "100/100 [==============================] - 44s 439ms/step - loss: 0.5270 - accuracy: 0.7374 - val_loss: 0.5953 - val_accuracy: 0.6892\n",
            "Epoch 17/100\n",
            "100/100 [==============================] - 44s 436ms/step - loss: 0.5175 - accuracy: 0.7458 - val_loss: 0.5649 - val_accuracy: 0.6967\n",
            "Epoch 18/100\n",
            "100/100 [==============================] - 43s 434ms/step - loss: 0.5062 - accuracy: 0.7514 - val_loss: 0.5667 - val_accuracy: 0.6932\n",
            "Epoch 19/100\n",
            "100/100 [==============================] - 44s 435ms/step - loss: 0.4850 - accuracy: 0.7686 - val_loss: 0.5575 - val_accuracy: 0.7114\n",
            "Epoch 20/100\n",
            "100/100 [==============================] - 44s 436ms/step - loss: 0.4754 - accuracy: 0.7745 - val_loss: 0.5595 - val_accuracy: 0.7105\n",
            "Epoch 21/100\n",
            "100/100 [==============================] - 44s 440ms/step - loss: 0.4644 - accuracy: 0.7818 - val_loss: 0.6031 - val_accuracy: 0.6901\n",
            "Epoch 22/100\n",
            "100/100 [==============================] - 44s 444ms/step - loss: 0.4517 - accuracy: 0.7901 - val_loss: 0.5692 - val_accuracy: 0.7118\n",
            "Epoch 23/100\n",
            "100/100 [==============================] - 44s 436ms/step - loss: 0.4336 - accuracy: 0.8063 - val_loss: 0.5686 - val_accuracy: 0.7069\n",
            "Epoch 24/100\n",
            "100/100 [==============================] - 44s 436ms/step - loss: 0.4125 - accuracy: 0.8213 - val_loss: 0.5533 - val_accuracy: 0.7278\n",
            "Epoch 25/100\n",
            "100/100 [==============================] - 43s 435ms/step - loss: 0.3960 - accuracy: 0.8320 - val_loss: 0.5955 - val_accuracy: 0.7025\n",
            "Epoch 26/100\n",
            "100/100 [==============================] - 43s 432ms/step - loss: 0.3723 - accuracy: 0.8443 - val_loss: 0.5879 - val_accuracy: 0.7154\n",
            "Epoch 27/100\n",
            "100/100 [==============================] - 43s 431ms/step - loss: 0.3682 - accuracy: 0.8438 - val_loss: 0.5633 - val_accuracy: 0.7194\n",
            "Epoch 28/100\n",
            "100/100 [==============================] - 43s 433ms/step - loss: 0.3505 - accuracy: 0.8559 - val_loss: 0.5586 - val_accuracy: 0.7278\n",
            "Epoch 29/100\n",
            "100/100 [==============================] - 43s 431ms/step - loss: 0.3504 - accuracy: 0.8503 - val_loss: 0.5438 - val_accuracy: 0.7336\n",
            "Epoch 30/100\n",
            "100/100 [==============================] - 43s 427ms/step - loss: 0.3133 - accuracy: 0.8807 - val_loss: 0.5435 - val_accuracy: 0.7393\n",
            "Epoch 31/100\n",
            "100/100 [==============================] - 43s 427ms/step - loss: 0.2898 - accuracy: 0.8931 - val_loss: 0.5540 - val_accuracy: 0.7429\n",
            "Epoch 32/100\n",
            "100/100 [==============================] - 43s 432ms/step - loss: 0.2647 - accuracy: 0.9082 - val_loss: 0.5669 - val_accuracy: 0.7327\n",
            "Epoch 33/100\n",
            "100/100 [==============================] - 43s 431ms/step - loss: 0.2504 - accuracy: 0.9151 - val_loss: 0.5647 - val_accuracy: 0.7367\n",
            "Epoch 34/100\n",
            "100/100 [==============================] - 43s 428ms/step - loss: 0.2354 - accuracy: 0.9202 - val_loss: 0.5784 - val_accuracy: 0.7367\n",
            "Epoch 35/100\n",
            "100/100 [==============================] - 43s 429ms/step - loss: 0.2240 - accuracy: 0.9282 - val_loss: 0.5775 - val_accuracy: 0.7385\n",
            "Epoch 36/100\n",
            "100/100 [==============================] - 43s 428ms/step - loss: 0.2093 - accuracy: 0.9309 - val_loss: 0.6074 - val_accuracy: 0.7282\n",
            "Epoch 37/100\n",
            "100/100 [==============================] - 43s 431ms/step - loss: 0.1899 - accuracy: 0.9401 - val_loss: 0.6547 - val_accuracy: 0.7167\n",
            "Epoch 38/100\n",
            "100/100 [==============================] - 43s 425ms/step - loss: 0.1759 - accuracy: 0.9503 - val_loss: 0.5960 - val_accuracy: 0.7393\n",
            "Epoch 39/100\n",
            "100/100 [==============================] - 43s 427ms/step - loss: 0.1629 - accuracy: 0.9564 - val_loss: 0.5983 - val_accuracy: 0.7398\n",
            "Epoch 40/100\n",
            "100/100 [==============================] - 42s 423ms/step - loss: 0.1489 - accuracy: 0.9632 - val_loss: 0.6657 - val_accuracy: 0.7149\n",
            "Epoch 41/100\n",
            "100/100 [==============================] - 43s 427ms/step - loss: 0.1414 - accuracy: 0.9634 - val_loss: 0.6553 - val_accuracy: 0.7247\n",
            "Epoch 42/100\n",
            "100/100 [==============================] - 42s 422ms/step - loss: 0.1206 - accuracy: 0.9764 - val_loss: 0.6619 - val_accuracy: 0.7309\n",
            "Epoch 43/100\n",
            "100/100 [==============================] - 43s 431ms/step - loss: 0.1192 - accuracy: 0.9736 - val_loss: 0.6575 - val_accuracy: 0.7318\n",
            "Epoch 44/100\n",
            "100/100 [==============================] - 42s 425ms/step - loss: 0.1071 - accuracy: 0.9796 - val_loss: 0.6582 - val_accuracy: 0.7407\n",
            "Epoch 45/100\n",
            "100/100 [==============================] - 43s 426ms/step - loss: 0.0973 - accuracy: 0.9836 - val_loss: 0.6755 - val_accuracy: 0.7336\n",
            "Epoch 46/100\n",
            "100/100 [==============================] - 43s 429ms/step - loss: 0.0911 - accuracy: 0.9854 - val_loss: 0.6865 - val_accuracy: 0.7385\n",
            "Epoch 47/100\n",
            "100/100 [==============================] - 43s 427ms/step - loss: 0.0810 - accuracy: 0.9876 - val_loss: 0.7249 - val_accuracy: 0.7242\n",
            "Epoch 48/100\n",
            "100/100 [==============================] - 43s 428ms/step - loss: 0.0772 - accuracy: 0.9896 - val_loss: 0.6950 - val_accuracy: 0.7389\n",
            "Epoch 49/100\n",
            "100/100 [==============================] - 43s 427ms/step - loss: 0.0705 - accuracy: 0.9917 - val_loss: 0.6900 - val_accuracy: 0.7464\n",
            "Epoch 50/100\n",
            "100/100 [==============================] - 43s 428ms/step - loss: 0.0658 - accuracy: 0.9932 - val_loss: 0.7352 - val_accuracy: 0.7331\n",
            "Epoch 51/100\n",
            "100/100 [==============================] - 43s 426ms/step - loss: 0.0586 - accuracy: 0.9950 - val_loss: 0.7265 - val_accuracy: 0.7407\n",
            "Epoch 52/100\n",
            "100/100 [==============================] - 43s 428ms/step - loss: 0.0527 - accuracy: 0.9961 - val_loss: 0.7330 - val_accuracy: 0.7398\n",
            "Epoch 53/100\n",
            "100/100 [==============================] - 43s 426ms/step - loss: 0.0513 - accuracy: 0.9960 - val_loss: 0.7331 - val_accuracy: 0.7416\n",
            "Epoch 54/100\n",
            "100/100 [==============================] - 43s 427ms/step - loss: 0.0454 - accuracy: 0.9980 - val_loss: 0.7969 - val_accuracy: 0.7287\n",
            "Epoch 55/100\n",
            "100/100 [==============================] - 43s 425ms/step - loss: 0.0425 - accuracy: 0.9976 - val_loss: 0.7720 - val_accuracy: 0.7411\n",
            "Epoch 56/100\n",
            "100/100 [==============================] - 43s 426ms/step - loss: 0.0387 - accuracy: 0.9982 - val_loss: 0.7728 - val_accuracy: 0.7407\n",
            "Epoch 57/100\n",
            "100/100 [==============================] - 43s 426ms/step - loss: 0.0364 - accuracy: 0.9985 - val_loss: 0.7887 - val_accuracy: 0.7402\n",
            "Epoch 58/100\n",
            "100/100 [==============================] - 43s 427ms/step - loss: 0.0347 - accuracy: 0.9983 - val_loss: 0.7963 - val_accuracy: 0.7331\n",
            "Epoch 59/100\n",
            "100/100 [==============================] - 43s 426ms/step - loss: 0.0326 - accuracy: 0.9990 - val_loss: 0.8956 - val_accuracy: 0.7140\n",
            "Epoch 60/100\n",
            "100/100 [==============================] - 43s 426ms/step - loss: 0.0306 - accuracy: 0.9987 - val_loss: 0.8019 - val_accuracy: 0.7420\n",
            "Epoch 61/100\n",
            "100/100 [==============================] - 43s 428ms/step - loss: 0.0299 - accuracy: 0.9989 - val_loss: 0.8160 - val_accuracy: 0.7407\n",
            "Epoch 62/100\n",
            "100/100 [==============================] - 42s 425ms/step - loss: 0.0292 - accuracy: 0.9988 - val_loss: 0.8367 - val_accuracy: 0.7393\n",
            "Epoch 63/100\n",
            "100/100 [==============================] - 43s 426ms/step - loss: 0.0245 - accuracy: 0.9996 - val_loss: 0.8367 - val_accuracy: 0.7438\n",
            "Epoch 64/100\n",
            "100/100 [==============================] - 42s 424ms/step - loss: 0.0229 - accuracy: 0.9995 - val_loss: 0.8344 - val_accuracy: 0.7451\n",
            "Epoch 65/100\n",
            "100/100 [==============================] - 42s 424ms/step - loss: 0.0265 - accuracy: 0.9991 - val_loss: 0.8405 - val_accuracy: 0.7469\n",
            "Epoch 66/100\n",
            "100/100 [==============================] - 42s 424ms/step - loss: 0.0208 - accuracy: 0.9995 - val_loss: 0.8530 - val_accuracy: 0.7429\n",
            "Epoch 67/100\n",
            "100/100 [==============================] - 42s 424ms/step - loss: 0.0192 - accuracy: 0.9997 - val_loss: 0.8613 - val_accuracy: 0.7416\n",
            "Epoch 68/100\n",
            "100/100 [==============================] - 43s 426ms/step - loss: 0.0199 - accuracy: 0.9996 - val_loss: 0.8787 - val_accuracy: 0.7411\n",
            "Epoch 69/100\n",
            "100/100 [==============================] - 43s 427ms/step - loss: 0.0185 - accuracy: 0.9998 - val_loss: 0.8915 - val_accuracy: 0.7371\n",
            "Epoch 70/100\n",
            "100/100 [==============================] - 43s 429ms/step - loss: 0.0169 - accuracy: 0.9998 - val_loss: 0.9069 - val_accuracy: 0.7322\n",
            "Epoch 71/100\n",
            "100/100 [==============================] - 43s 432ms/step - loss: 0.0171 - accuracy: 0.9998 - val_loss: 0.8937 - val_accuracy: 0.7442\n",
            "Epoch 72/100\n",
            "100/100 [==============================] - 43s 435ms/step - loss: 0.0155 - accuracy: 0.9998 - val_loss: 0.8957 - val_accuracy: 0.7411\n",
            "Epoch 73/100\n",
            "100/100 [==============================] - 44s 435ms/step - loss: 0.0144 - accuracy: 0.9998 - val_loss: 0.9046 - val_accuracy: 0.7416\n",
            "Epoch 74/100\n",
            "100/100 [==============================] - 44s 437ms/step - loss: 0.0135 - accuracy: 0.9998 - val_loss: 0.9133 - val_accuracy: 0.7407\n",
            "Epoch 75/100\n",
            "100/100 [==============================] - 44s 440ms/step - loss: 0.0134 - accuracy: 0.9999 - val_loss: 0.9196 - val_accuracy: 0.7438\n",
            "Epoch 76/100\n",
            "100/100 [==============================] - 44s 438ms/step - loss: 0.0137 - accuracy: 0.9998 - val_loss: 0.9167 - val_accuracy: 0.7402\n",
            "Epoch 77/100\n",
            "100/100 [==============================] - 44s 439ms/step - loss: 0.0117 - accuracy: 1.0000 - val_loss: 0.9302 - val_accuracy: 0.7420\n",
            "Epoch 78/100\n",
            "100/100 [==============================] - 44s 443ms/step - loss: 0.0116 - accuracy: 0.9998 - val_loss: 0.9323 - val_accuracy: 0.7389\n",
            "Epoch 79/100\n",
            "100/100 [==============================] - 43s 433ms/step - loss: 0.0109 - accuracy: 1.0000 - val_loss: 0.9444 - val_accuracy: 0.7393\n",
            "Epoch 80/100\n",
            "100/100 [==============================] - 43s 435ms/step - loss: 0.0110 - accuracy: 0.9999 - val_loss: 0.9514 - val_accuracy: 0.7380\n",
            "Epoch 81/100\n",
            "100/100 [==============================] - 43s 431ms/step - loss: 0.0104 - accuracy: 0.9999 - val_loss: 0.9638 - val_accuracy: 0.7380\n",
            "Epoch 82/100\n",
            "100/100 [==============================] - 44s 440ms/step - loss: 0.0098 - accuracy: 1.0000 - val_loss: 0.9591 - val_accuracy: 0.7425\n",
            "Epoch 83/100\n",
            "100/100 [==============================] - 43s 434ms/step - loss: 0.0095 - accuracy: 1.0000 - val_loss: 0.9677 - val_accuracy: 0.7358\n",
            "Epoch 84/100\n",
            "100/100 [==============================] - 43s 433ms/step - loss: 0.0095 - accuracy: 1.0000 - val_loss: 0.9835 - val_accuracy: 0.7345\n",
            "Epoch 85/100\n",
            "100/100 [==============================] - 43s 434ms/step - loss: 0.0089 - accuracy: 0.9999 - val_loss: 0.9765 - val_accuracy: 0.7411\n",
            "Epoch 86/100\n",
            "100/100 [==============================] - 44s 436ms/step - loss: 0.0085 - accuracy: 1.0000 - val_loss: 1.0058 - val_accuracy: 0.7340\n",
            "Epoch 87/100\n",
            "100/100 [==============================] - 43s 434ms/step - loss: 0.0084 - accuracy: 0.9999 - val_loss: 1.0218 - val_accuracy: 0.7296\n",
            "Epoch 88/100\n",
            "100/100 [==============================] - 43s 428ms/step - loss: 0.0084 - accuracy: 1.0000 - val_loss: 0.9922 - val_accuracy: 0.7349\n",
            "Epoch 89/100\n",
            "100/100 [==============================] - 43s 429ms/step - loss: 0.0078 - accuracy: 1.0000 - val_loss: 0.9950 - val_accuracy: 0.7393\n",
            "Epoch 90/100\n",
            "100/100 [==============================] - 42s 424ms/step - loss: 0.0078 - accuracy: 0.9999 - val_loss: 0.9964 - val_accuracy: 0.7376\n",
            "Epoch 91/100\n",
            "100/100 [==============================] - 43s 427ms/step - loss: 0.0073 - accuracy: 1.0000 - val_loss: 1.0152 - val_accuracy: 0.7367\n",
            "Epoch 92/100\n",
            "100/100 [==============================] - 43s 426ms/step - loss: 0.0073 - accuracy: 1.0000 - val_loss: 1.0183 - val_accuracy: 0.7345\n",
            "Epoch 93/100\n",
            "100/100 [==============================] - 43s 430ms/step - loss: 0.0069 - accuracy: 1.0000 - val_loss: 1.0110 - val_accuracy: 0.7416\n",
            "Epoch 94/100\n",
            "100/100 [==============================] - 43s 426ms/step - loss: 0.0068 - accuracy: 0.9999 - val_loss: 1.0250 - val_accuracy: 0.7376\n",
            "Epoch 95/100\n",
            "100/100 [==============================] - 43s 426ms/step - loss: 0.0066 - accuracy: 1.0000 - val_loss: 1.0222 - val_accuracy: 0.7398\n",
            "Epoch 96/100\n",
            "100/100 [==============================] - 43s 426ms/step - loss: 0.0063 - accuracy: 1.0000 - val_loss: 1.0260 - val_accuracy: 0.7362\n",
            "Epoch 97/100\n",
            "100/100 [==============================] - 43s 427ms/step - loss: 0.0061 - accuracy: 1.0000 - val_loss: 1.0287 - val_accuracy: 0.7407\n",
            "Epoch 98/100\n",
            "100/100 [==============================] - 43s 426ms/step - loss: 0.0060 - accuracy: 1.0000 - val_loss: 1.0341 - val_accuracy: 0.7376\n",
            "Epoch 99/100\n",
            "100/100 [==============================] - 42s 424ms/step - loss: 0.0059 - accuracy: 1.0000 - val_loss: 1.0424 - val_accuracy: 0.7416\n",
            "Epoch 100/100\n",
            "100/100 [==============================] - 43s 426ms/step - loss: 0.0058 - accuracy: 1.0000 - val_loss: 1.0493 - val_accuracy: 0.7353\n"
          ],
          "name": "stdout"
        }
      ]
    },
    {
      "cell_type": "code",
      "metadata": {
        "id": "VaPbEQ2RxSDa",
        "outputId": "ba9c2af7-f409-4a03-9b98-7e57638974ea",
        "colab": {
          "base_uri": "https://localhost:8080/",
          "height": 278
        }
      },
      "source": [
        "plot_loss(history_base_model)"
      ],
      "execution_count": null,
      "outputs": [
        {
          "output_type": "display_data",
          "data": {
            "image/png": "[encoded data removed]",
            "text/plain": [
              "<Figure size 432x288 with 1 Axes>"
            ]
          },
          "metadata": {
            "tags": [],
            "needs_background": "light"
          }
        }
      ]
    },
    {
      "cell_type": "markdown",
      "metadata": {
        "id": "4aFGRJJx-yif"
      },
      "source": [
        "Epoch 31/100 -- val_loss: 0.5540 - val_accuracy: 0.7429\n"
      ]
    },
    {
      "cell_type": "markdown",
      "metadata": {
        "id": "dVq1kOoj-1L0"
      },
      "source": [
        "nilai loss terkecil dan akurasi tertinggi untuk validation saya dapatkan pada epoch 31"
      ]
    }
  ]
}