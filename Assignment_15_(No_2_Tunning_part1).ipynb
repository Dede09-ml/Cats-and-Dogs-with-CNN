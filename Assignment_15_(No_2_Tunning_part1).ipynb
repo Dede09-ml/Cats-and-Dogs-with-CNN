{
  "nbformat": 4,
  "nbformat_minor": 0,
  "metadata": {
    "colab": {
      "name": "Assignment 15 (No.2 Tunning_part1).ipynb",
      "provenance": [],
      "collapsed_sections": []
    },
    "kernelspec": {
      "name": "python3",
      "display_name": "Python 3"
    },
    "accelerator": "GPU"
  },
  "cells": [
    {
      "cell_type": "code",
      "metadata": {
        "id": "rxSuRNPmT9Bc"
      },
      "source": [
        "zip_path = '/content/drive/My\\ Drive/Dataset/Neural\\ Data/cats-dogs.zip'\n",
        "\n",
        "!cp {zip_path} /content/\n",
        "\n",
        "!cd /content/\n",
        "\n",
        "!unzip -q /content/cats-dogs.zip -d /content\n",
        "\n",
        "!rm /content/cats-dogs.zip"
      ],
      "execution_count": 1,
      "outputs": []
    },
    {
      "cell_type": "code",
      "metadata": {
        "id": "YCT1wqfSU828"
      },
      "source": [
        "import numpy as np\n",
        "import os\n",
        "import matplotlib.pyplot as plt"
      ],
      "execution_count": 2,
      "outputs": []
    },
    {
      "cell_type": "code",
      "metadata": {
        "id": "h6ZYQEsoVBvS"
      },
      "source": [
        "def plot_loss(history):\n",
        "  plt.plot(history.history['loss'], label='loss')\n",
        "  plt.plot(history.history['val_loss'], label='val_loss')\n",
        "  plt.xlabel('Epoch')\n",
        "  plt.ylabel('Loss')\n",
        "  plt.legend()\n",
        "  plt.grid(True)"
      ],
      "execution_count": 3,
      "outputs": []
    },
    {
      "cell_type": "markdown",
      "metadata": {
        "id": "G5eoHJfCRlK6"
      },
      "source": [
        "Tunning : Connv2D filter 64, kernel_size = 3x3, AveragePooling2D, batch_size = 256, epochs = 50, learning rate=0.01"
      ]
    },
    {
      "cell_type": "code",
      "metadata": {
        "id": "HW6ikWzWVDwh",
        "outputId": "c0806beb-3b61-4859-a882-48e9dd522d88",
        "colab": {
          "base_uri": "https://localhost:8080/",
          "height": 310
        }
      },
      "source": [
        "from tensorflow.keras.models import Sequential\n",
        "from tensorflow.keras.layers import Conv2D, AveragePooling2D, Dense, Flatten\n",
        "from tensorflow.keras.optimizers import SGD\n",
        "# https://www.pyimagesearch.com/2018/12/31/keras-conv2d-and-convolutional-layers/\n",
        "\n",
        "model = Sequential()\n",
        "model.add(Conv2D(64, (3, 3), activation='relu', kernel_initializer='he_uniform', padding='same', input_shape=(200, 200, 3)))\n",
        "model.add(AveragePooling2D((2, 2)))\n",
        "\n",
        "# model.add(Conv2D(64, (3, 3), activation='relu', kernel_initializer='he_uniform', padding='same', input_shape=(200, 200, 3)))\n",
        "# model.add(MaxPooling2D((2, 2)))\n",
        "\n",
        "# model.add(Conv2D(128, (3, 3), activation='relu', kernel_initializer='he_uniform', padding='same', input_shape=(200, 200, 3)))\n",
        "# model.add(MaxPooling2D((2, 2)))\n",
        "\n",
        "model.add(Flatten())\n",
        "\n",
        "model.add(Dense(128, activation='relu', kernel_initializer='he_uniform'))\n",
        "model.add(Dense(1, activation='sigmoid'))\n",
        "\n",
        "opt = SGD(lr=0.01, momentum=0.9)\n",
        "\n",
        "model.compile(optimizer=opt, loss='binary_crossentropy', metrics=['accuracy'])\n",
        "\n",
        "model.summary()"
      ],
      "execution_count": 4,
      "outputs": [
        {
          "output_type": "stream",
          "text": [
            "Model: \"sequential\"\n",
            "_________________________________________________________________\n",
            "Layer (type)                 Output Shape              Param #   \n",
            "=================================================================\n",
            "conv2d (Conv2D)              (None, 200, 200, 64)      1792      \n",
            "_________________________________________________________________\n",
            "average_pooling2d (AveragePo (None, 100, 100, 64)      0         \n",
            "_________________________________________________________________\n",
            "flatten (Flatten)            (None, 640000)            0         \n",
            "_________________________________________________________________\n",
            "dense (Dense)                (None, 128)               81920128  \n",
            "_________________________________________________________________\n",
            "dense_1 (Dense)              (None, 1)                 129       \n",
            "=================================================================\n",
            "Total params: 81,922,049\n",
            "Trainable params: 81,922,049\n",
            "Non-trainable params: 0\n",
            "_________________________________________________________________\n"
          ],
          "name": "stdout"
        }
      ]
    },
    {
      "cell_type": "code",
      "metadata": {
        "id": "akQZSqiVWuSU",
        "outputId": "6d35e4e0-e1c6-476e-bedd-899cc4f3836c",
        "colab": {
          "base_uri": "https://localhost:8080/",
          "height": 50
        }
      },
      "source": [
        "dataset_dir = '/content/'\n",
        "\n",
        "from tensorflow.keras.preprocessing.image import ImageDataGenerator\n",
        "\n",
        "datagen = ImageDataGenerator(rescale=1.0/255.0)\n",
        "# train_datagen = ImageDataGenerator(rescale=1.0/255.0, width_shift_range=0.1, height_shift_range=0.1, horizontal_flip=True)\n",
        "# test_datagen = ImageDataGenerator(rescale=1.0/255.0)\n",
        "\n",
        "train_iterator = datagen.flow_from_directory(os.path.join(dataset_dir, 'train'), class_mode='binary', batch_size=256, target_size=(200, 200))\n",
        "test_iterator = datagen.flow_from_directory(os.path.join(dataset_dir, 'test'), class_mode='binary', batch_size=256, target_size=(200, 200))"
      ],
      "execution_count": 5,
      "outputs": [
        {
          "output_type": "stream",
          "text": [
            "Found 12749 images belonging to 2 classes.\n",
            "Found 2252 images belonging to 2 classes.\n"
          ],
          "name": "stdout"
        }
      ]
    },
    {
      "cell_type": "code",
      "metadata": {
        "id": "QVz23Pe4d1Yv",
        "outputId": "389af065-45b2-4540-c8dc-1dae97e6d105",
        "colab": {
          "base_uri": "https://localhost:8080/",
          "height": 1000
        }
      },
      "source": [
        "history_model_tunning1 = model.fit_generator(train_iterator, steps_per_epoch=len(train_iterator), validation_data=test_iterator, validation_steps=len(test_iterator), epochs=50)"
      ],
      "execution_count": 6,
      "outputs": [
        {
          "output_type": "stream",
          "text": [
            "WARNING:tensorflow:From <ipython-input-6-b399f03261a0>:1: Model.fit_generator (from tensorflow.python.keras.engine.training) is deprecated and will be removed in a future version.\n",
            "Instructions for updating:\n",
            "Please use Model.fit, which supports generators.\n",
            "Epoch 1/50\n",
            " 2/50 [>.............................] - ETA: 5s - loss: 16.3859 - accuracy: 0.5117WARNING:tensorflow:Callbacks method `on_train_batch_end` is slow compared to the batch time (batch time: 0.0797s vs `on_train_batch_end` time: 0.1343s). Check your callbacks.\n",
            "50/50 [==============================] - 48s 963ms/step - loss: 1.3159 - accuracy: 0.5855 - val_loss: 0.6481 - val_accuracy: 0.6412\n",
            "Epoch 2/50\n",
            "50/50 [==============================] - 48s 953ms/step - loss: 0.6292 - accuracy: 0.6497 - val_loss: 0.6226 - val_accuracy: 0.6514\n",
            "Epoch 3/50\n",
            "50/50 [==============================] - 48s 953ms/step - loss: 0.5878 - accuracy: 0.6979 - val_loss: 0.5753 - val_accuracy: 0.6936\n",
            "Epoch 4/50\n",
            "50/50 [==============================] - 48s 952ms/step - loss: 0.5414 - accuracy: 0.7295 - val_loss: 0.5716 - val_accuracy: 0.6980\n",
            "Epoch 5/50\n",
            "50/50 [==============================] - 48s 953ms/step - loss: 0.4964 - accuracy: 0.7587 - val_loss: 0.5406 - val_accuracy: 0.7318\n",
            "Epoch 6/50\n",
            "50/50 [==============================] - 48s 958ms/step - loss: 0.4472 - accuracy: 0.7925 - val_loss: 0.5413 - val_accuracy: 0.7158\n",
            "Epoch 7/50\n",
            "50/50 [==============================] - 48s 953ms/step - loss: 0.3960 - accuracy: 0.8238 - val_loss: 0.5314 - val_accuracy: 0.7358\n",
            "Epoch 8/50\n",
            "50/50 [==============================] - 48s 951ms/step - loss: 0.3405 - accuracy: 0.8565 - val_loss: 0.5750 - val_accuracy: 0.7247\n",
            "Epoch 9/50\n",
            "50/50 [==============================] - 48s 954ms/step - loss: 0.3057 - accuracy: 0.8697 - val_loss: 0.5609 - val_accuracy: 0.7291\n",
            "Epoch 10/50\n",
            "50/50 [==============================] - 48s 954ms/step - loss: 0.2668 - accuracy: 0.8955 - val_loss: 0.6185 - val_accuracy: 0.7274\n",
            "Epoch 11/50\n",
            "50/50 [==============================] - 48s 954ms/step - loss: 0.2291 - accuracy: 0.9122 - val_loss: 0.5724 - val_accuracy: 0.7393\n",
            "Epoch 12/50\n",
            "50/50 [==============================] - 48s 957ms/step - loss: 0.1573 - accuracy: 0.9515 - val_loss: 0.7044 - val_accuracy: 0.7211\n",
            "Epoch 13/50\n",
            "50/50 [==============================] - 48s 956ms/step - loss: 0.1744 - accuracy: 0.9337 - val_loss: 0.7053 - val_accuracy: 0.7145\n",
            "Epoch 14/50\n",
            "50/50 [==============================] - 48s 953ms/step - loss: 0.1228 - accuracy: 0.9617 - val_loss: 0.7129 - val_accuracy: 0.7225\n",
            "Epoch 15/50\n",
            "50/50 [==============================] - 48s 958ms/step - loss: 0.0933 - accuracy: 0.9750 - val_loss: 0.7715 - val_accuracy: 0.7238\n",
            "Epoch 16/50\n",
            "50/50 [==============================] - 47s 948ms/step - loss: 0.0566 - accuracy: 0.9906 - val_loss: 0.7956 - val_accuracy: 0.7349\n",
            "Epoch 17/50\n",
            "50/50 [==============================] - 48s 950ms/step - loss: 0.0381 - accuracy: 0.9959 - val_loss: 0.8144 - val_accuracy: 0.7327\n",
            "Epoch 18/50\n",
            "50/50 [==============================] - 48s 955ms/step - loss: 0.0294 - accuracy: 0.9978 - val_loss: 0.8825 - val_accuracy: 0.7269\n",
            "Epoch 19/50\n",
            "50/50 [==============================] - 48s 959ms/step - loss: 0.0229 - accuracy: 0.9988 - val_loss: 0.8872 - val_accuracy: 0.7300\n",
            "Epoch 20/50\n",
            "50/50 [==============================] - 48s 958ms/step - loss: 0.0165 - accuracy: 0.9993 - val_loss: 0.9278 - val_accuracy: 0.7242\n",
            "Epoch 21/50\n",
            "50/50 [==============================] - 48s 961ms/step - loss: 0.0139 - accuracy: 0.9995 - val_loss: 0.9485 - val_accuracy: 0.7358\n",
            "Epoch 22/50\n",
            "50/50 [==============================] - 48s 958ms/step - loss: 0.0107 - accuracy: 0.9996 - val_loss: 0.9836 - val_accuracy: 0.7327\n",
            "Epoch 23/50\n",
            "50/50 [==============================] - 48s 960ms/step - loss: 0.0083 - accuracy: 0.9999 - val_loss: 0.9936 - val_accuracy: 0.7362\n",
            "Epoch 24/50\n",
            "50/50 [==============================] - 48s 959ms/step - loss: 0.0075 - accuracy: 0.9999 - val_loss: 1.0163 - val_accuracy: 0.7367\n",
            "Epoch 25/50\n",
            "50/50 [==============================] - 48s 959ms/step - loss: 0.0064 - accuracy: 0.9999 - val_loss: 1.0404 - val_accuracy: 0.7398\n",
            "Epoch 26/50\n",
            "50/50 [==============================] - 48s 957ms/step - loss: 0.0058 - accuracy: 0.9999 - val_loss: 1.0441 - val_accuracy: 0.7345\n",
            "Epoch 27/50\n",
            "50/50 [==============================] - 48s 956ms/step - loss: 0.0050 - accuracy: 1.0000 - val_loss: 1.0651 - val_accuracy: 0.7287\n",
            "Epoch 28/50\n",
            "50/50 [==============================] - 48s 959ms/step - loss: 0.0045 - accuracy: 1.0000 - val_loss: 1.0800 - val_accuracy: 0.7265\n",
            "Epoch 29/50\n",
            "50/50 [==============================] - 48s 957ms/step - loss: 0.0041 - accuracy: 1.0000 - val_loss: 1.0736 - val_accuracy: 0.7367\n",
            "Epoch 30/50\n",
            "50/50 [==============================] - 48s 959ms/step - loss: 0.0038 - accuracy: 1.0000 - val_loss: 1.0942 - val_accuracy: 0.7322\n",
            "Epoch 31/50\n",
            "50/50 [==============================] - 48s 959ms/step - loss: 0.0035 - accuracy: 1.0000 - val_loss: 1.1101 - val_accuracy: 0.7327\n",
            "Epoch 32/50\n",
            "50/50 [==============================] - 48s 960ms/step - loss: 0.0033 - accuracy: 1.0000 - val_loss: 1.1233 - val_accuracy: 0.7345\n",
            "Epoch 33/50\n",
            "50/50 [==============================] - 48s 956ms/step - loss: 0.0031 - accuracy: 1.0000 - val_loss: 1.1203 - val_accuracy: 0.7322\n",
            "Epoch 34/50\n",
            "50/50 [==============================] - 48s 960ms/step - loss: 0.0029 - accuracy: 1.0000 - val_loss: 1.1404 - val_accuracy: 0.7349\n",
            "Epoch 35/50\n",
            "50/50 [==============================] - 48s 958ms/step - loss: 0.0027 - accuracy: 1.0000 - val_loss: 1.1481 - val_accuracy: 0.7385\n",
            "Epoch 36/50\n",
            "50/50 [==============================] - 48s 958ms/step - loss: 0.0025 - accuracy: 1.0000 - val_loss: 1.1505 - val_accuracy: 0.7336\n",
            "Epoch 37/50\n",
            "50/50 [==============================] - 48s 959ms/step - loss: 0.0024 - accuracy: 1.0000 - val_loss: 1.1683 - val_accuracy: 0.7367\n",
            "Epoch 38/50\n",
            "50/50 [==============================] - 48s 958ms/step - loss: 0.0022 - accuracy: 1.0000 - val_loss: 1.1701 - val_accuracy: 0.7362\n",
            "Epoch 39/50\n",
            "50/50 [==============================] - 48s 959ms/step - loss: 0.0021 - accuracy: 1.0000 - val_loss: 1.1756 - val_accuracy: 0.7296\n",
            "Epoch 40/50\n",
            "50/50 [==============================] - 48s 960ms/step - loss: 0.0021 - accuracy: 1.0000 - val_loss: 1.1774 - val_accuracy: 0.7336\n",
            "Epoch 41/50\n",
            "50/50 [==============================] - 48s 957ms/step - loss: 0.0020 - accuracy: 1.0000 - val_loss: 1.1902 - val_accuracy: 0.7358\n",
            "Epoch 42/50\n",
            "50/50 [==============================] - 48s 960ms/step - loss: 0.0019 - accuracy: 1.0000 - val_loss: 1.1941 - val_accuracy: 0.7340\n",
            "Epoch 43/50\n",
            "50/50 [==============================] - 48s 959ms/step - loss: 0.0018 - accuracy: 1.0000 - val_loss: 1.2044 - val_accuracy: 0.7353\n",
            "Epoch 44/50\n",
            "50/50 [==============================] - 48s 956ms/step - loss: 0.0017 - accuracy: 1.0000 - val_loss: 1.2126 - val_accuracy: 0.7331\n",
            "Epoch 45/50\n",
            "50/50 [==============================] - 48s 955ms/step - loss: 0.0017 - accuracy: 1.0000 - val_loss: 1.2150 - val_accuracy: 0.7296\n",
            "Epoch 46/50\n",
            "50/50 [==============================] - 48s 958ms/step - loss: 0.0016 - accuracy: 1.0000 - val_loss: 1.2222 - val_accuracy: 0.7336\n",
            "Epoch 47/50\n",
            "50/50 [==============================] - 48s 959ms/step - loss: 0.0015 - accuracy: 1.0000 - val_loss: 1.2267 - val_accuracy: 0.7345\n",
            "Epoch 48/50\n",
            "50/50 [==============================] - 48s 956ms/step - loss: 0.0015 - accuracy: 1.0000 - val_loss: 1.2425 - val_accuracy: 0.7313\n",
            "Epoch 49/50\n",
            "50/50 [==============================] - 48s 957ms/step - loss: 0.0014 - accuracy: 1.0000 - val_loss: 1.2394 - val_accuracy: 0.7345\n",
            "Epoch 50/50\n",
            "50/50 [==============================] - 48s 960ms/step - loss: 0.0014 - accuracy: 1.0000 - val_loss: 1.2462 - val_accuracy: 0.7322\n"
          ],
          "name": "stdout"
        }
      ]
    },
    {
      "cell_type": "code",
      "metadata": {
        "id": "rIasgUqqgdmw",
        "outputId": "6390426c-4108-45e1-b1ac-687527ce5fdd",
        "colab": {
          "base_uri": "https://localhost:8080/",
          "height": 278
        }
      },
      "source": [
        "plot_loss(history_model_tunning1)"
      ],
      "execution_count": 7,
      "outputs": [
        {
          "output_type": "display_data",
          "data": {
            "image/png": "[encoded data removed]",
            "text/plain": [
              "<Figure size 432x288 with 1 Axes>"
            ]
          },
          "metadata": {
            "tags": [],
            "needs_background": "light"
          }
        }
      ]
    },
    {
      "cell_type": "markdown",
      "metadata": {
        "id": "uL_uSPNI-EJd"
      },
      "source": [
        "Epoch 11/50 -- val_loss: 0.5724 - val_accuracy: 0.7393"
      ]
    },
    {
      "cell_type": "markdown",
      "metadata": {
        "id": "xvybT6xP-QmQ"
      },
      "source": [
        "nilai loss terkecil dan akurasi tertinggi untuk validation saya dapatkan pada epoch 11, dari grafik juga dapat dilihat pada saat epochnya 11 grafik loss mulai stabil naik\n",
        "nilai akurasi yang didapatkan menggunakan AveragePooling tidak jauh berbeda dengan MaxPooling. namun disini saya langsung menggunakan filter layer 64."
      ]
    }
  ]
}